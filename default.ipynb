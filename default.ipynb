{
 "cells": [
  {
   "cell_type": "markdown",
   "metadata": {},
   "source": [
    " <img src=\"images/poli.png\" width=\"300px\">"
   ]
  },
  {
   "cell_type": "markdown",
   "metadata": {},
   "source": [
    "# Robots Moviles y Articulados"
   ]
  },
  {
   "cell_type": "markdown",
   "metadata": {},
   "source": [
    "# Deber Segundo Parcial"
   ]
  },
  {
   "cell_type": "markdown",
   "metadata": {},
   "source": [
    "## 1. Modelado de Robots Articulados en ROS - URDF"
   ]
  },
  {
   "cell_type": "markdown",
   "metadata": {},
   "source": [
    "ROS usa el formato de descripcion de robots conocido como URDF\n",
    "<br> URDF (Unified Robotics Description Format) \n",
    "<br> El cual es un formato de especificación XML utilizada en el mundo académico y la industria para modelar sistemas <br>multicuerpo, como brazos manipuladores robóticos para la fabricación de líneas de montaje, robots móviles y robots <br>animatrónicos para cualquier propósito."
   ]
  },
  {
   "cell_type": "markdown",
   "metadata": {},
   "source": [
    "Aclaración: No tome en cuenta las carpetas myworkcell_ que aparecen en el video puesto que no se usarán en este tutorial. "
   ]
  },
  {
   "cell_type": "markdown",
   "metadata": {},
   "source": [
    "Primero crearemos un paquete donde guardaremos nuestro primer robot"
   ]
  },
  {
   "cell_type": "raw",
   "metadata": {},
   "source": [
    "sudo apt-get update"
   ]
  },
  {
   "cell_type": "raw",
   "metadata": {},
   "source": [
    "source /opt/ros/$ROS_DISTRO/setup.bash"
   ]
  },
  {
   "cell_type": "raw",
   "metadata": {},
   "source": [
    "cd ~/catkin_ws/src"
   ]
  },
  {
   "cell_type": "markdown",
   "metadata": {},
   "source": [
    "Lo llamaremos bazu"
   ]
  },
  {
   "cell_type": "raw",
   "metadata": {},
   "source": [
    "catkin_create_pkg bazu std_msgs rospy"
   ]
  },
  {
   "cell_type": "markdown",
   "metadata": {},
   "source": [
    "Dentro del paquete, crearemos las carpetas launch y urdf. Dentro de la carpeta urdf, crearemos un archivo llamado bazu.urdf"
   ]
  },
  {
   "cell_type": "markdown",
   "metadata": {},
   "source": [
    "Ahora instalamos las extensiones en el Visual Studio Code"
   ]
  },
  {
   "cell_type": "markdown",
   "metadata": {},
   "source": [
    "Posterior a ello, leeremos sobre los tipos de joints disponibles: [TiposdeJoints](http://wiki.ros.org/urdf/XML/joint)"
   ]
  },
  {
   "cell_type": "markdown",
   "metadata": {},
   "source": [
    "Primero aprenderemos como crear el código que se muestra debajo, y haremos enfasis a algunos errores posibles\n",
    "<br>Este código de abajo debe ir dentro del archivo bazu.urdf"
   ]
  },
  {
   "cell_type": "raw",
   "metadata": {},
   "source": [
    "<?xml version=\"1.0\" ?>\n",
    "<robot name=\"bazu\" xmlns:xacro=\"http://ros.org/wiki/xacro\">\n",
    "\n",
    "    <link name=\"world\">\n",
    "    </link>\n",
    "\n",
    "    <link name=\"base_link\">\n",
    "        <inertial>\n",
    "            <origin xyz=\"0.0 0.0 0.0\" rpy=\"0.0 0.0 0.0\"/>\n",
    "            <mass value=\"0.0\"/>\n",
    "            <inertia ixx=\"0.0\" ixy=\"0.0\" ixz=\"0.0\" iyy=\"0.0\" iyz=\"0.0\" izz=\"0.0\"/>\n",
    "        </inertial>\n",
    "        <visual >\n",
    "            <origin xyz=\"0.0 0.0 0.025\" rpy=\"0.0 0.0 0.0\"/>\n",
    "            <geometry>\n",
    "                <cylinder radius=\"0.1\" length=\"0.05\"/>\n",
    "            </geometry>\n",
    "            <material name=\"\">\n",
    "                <color rgba=\"1.0 0.0 0.0 1.0\"/>\n",
    "            </material>\n",
    "        </visual>\n",
    "        <collision>\n",
    "            <origin xyz=\"0.0 0.0 0.0\" rpy=\"0.0 0.0 0.0\"/>\n",
    "            <geometry>\n",
    "                <box size=\"0.0 0.0 0.0\"/>\n",
    "            </geometry>\n",
    "        </collision>\n",
    "    </link>\n",
    "\n",
    "    <joint name=\"joint_base\" type=\"fixed\">\n",
    "        <origin xyz=\"0.0 0.0 0.0\" rpy=\"0.0 0.0 0.0\"/>\n",
    "        <parent link=\"world\"/>\n",
    "        <child link=\"base_link\"/>\n",
    "        <axis xyz=\"0.0 0.0 0.0\"/>\n",
    "        <limit lower=\"0.0\" upper=\"0.0\" effort=\"0.0\" velocity=\"0.0\"/>\n",
    "    </joint>    \n",
    " \n",
    "\n",
    "</robot>\n"
   ]
  },
  {
   "cell_type": "markdown",
   "metadata": {},
   "source": [
    "Posicionamos el terminal en nuestra carpeta bazu"
   ]
  },
  {
   "cell_type": "raw",
   "metadata": {},
   "source": [
    "roscd bazu"
   ]
  },
  {
   "cell_type": "raw",
   "metadata": {},
   "source": [
    "cd urdf"
   ]
  },
  {
   "cell_type": "markdown",
   "metadata": {},
   "source": [
    "Corremos el siguiente comando"
   ]
  },
  {
   "cell_type": "raw",
   "metadata": {},
   "source": [
    "roslaunch urdf_tutorial display.launch model:=bazu.urdf"
   ]
  },
  {
   "cell_type": "markdown",
   "metadata": {},
   "source": [
    "Adicionamos el siguiente código, el cual adicionará otro eslabon"
   ]
  },
  {
   "cell_type": "raw",
   "metadata": {},
   "source": [
    "<link name=\"link_1\">\n",
    "        <inertial>\n",
    "            <origin xyz=\"0.0 0.0 0.0\" rpy=\"0.0 0.0 0.0\"/>\n",
    "            <mass value=\"0.0\"/>\n",
    "            <inertia ixx=\"0.0\" ixy=\"0.0\" ixz=\"0.0\" iyy=\"0.0\" iyz=\"0.0\" izz=\"0.0\"/>\n",
    "        </inertial>\n",
    "        <visual>\n",
    "            <origin xyz=\"0.0 0.0 0.25\" rpy=\"0.0 0.0 0.0\"/>\n",
    "            <geometry>\n",
    "                <cylinder radius=\"0.05\" length=\"0.5\"/>\n",
    "            </geometry>\n",
    "            <material name=\"\">\n",
    "                <color rgba=\"0.75 0.75 0.75 1.0\"/>\n",
    "            </material>\n",
    "        </visual>\n",
    "        <collision>\n",
    "            <origin xyz=\"0.0 0.0 0.0\" rpy=\"0.0 0.0 0.0\"/>\n",
    "            <geometry>\n",
    "                <box size=\"0.0 0.0 0.0\"/>\n",
    "            </geometry>\n",
    "        </collision>\n",
    "    </link>\n",
    "\n",
    "    <joint name=\"joint_1\" type=\"continuous\">\n",
    "        <origin xyz=\"0.0 0.0 0.05\" rpy=\"0.0 0.0 0.0\"/>\n",
    "        <parent link=\"base_link\"/>\n",
    "        <child link=\"link_1\"/>\n",
    "        <axis xyz=\"0.0 0.0 1.0\"/>\n",
    "    </joint>"
   ]
  },
  {
   "cell_type": "markdown",
   "metadata": {},
   "source": [
    "Lo mismo con los siguientes"
   ]
  },
  {
   "cell_type": "raw",
   "metadata": {},
   "source": [
    "<link name=\"link_2\">\n",
    "        <inertial>\n",
    "            <origin xyz=\"0.0 0.0 0.0\" rpy=\"0.0 0.0 0.0\"/>\n",
    "            <mass value=\"0.0\"/>\n",
    "            <inertia ixx=\"0.0\" ixy=\"0.0\" ixz=\"0.0\" iyy=\"0.0\" iyz=\"0.0\" izz=\"0.0\"/>\n",
    "        </inertial>\n",
    "        <visual>\n",
    "            <origin xyz=\"0.0 0.0 0.2\" rpy=\"0.0 0.0 0.0\"/>\n",
    "            <geometry>\n",
    "               <cylinder radius=\"0.05\" length=\"0.4\"/>\n",
    "            </geometry>\n",
    "            <material name=\"\">\n",
    "                <color rgba=\"1.0 0.0 0.0 1.0\"/>\n",
    "                <texture filename=\"\"/>\n",
    "            </material>\n",
    "        </visual>\n",
    "        <collision>\n",
    "            <origin xyz=\"0.0 0.0 0.0\" rpy=\"0.0 0.0 0.0\"/>\n",
    "            <geometry>\n",
    "                <box size=\"0.0 0.0 0.0\"/>\n",
    "            </geometry>\n",
    "        </collision>\n",
    "    </link>\n",
    "\n",
    "    <joint name=\"joint_2\" type=\"continuous\">\n",
    "        <axis xyz=\"0 1 0\"/>\n",
    "        <parent link=\"link_1\"/>\n",
    "        <child link=\"link_2\"/>\n",
    "        <origin rpy=\"0 1.5708 0\" xyz=\"0.0 -0.1 0.45\"/>\n",
    "    </joint>"
   ]
  },
  {
   "cell_type": "raw",
   "metadata": {},
   "source": [
    "<link name=\"link_3\">\n",
    "        <inertial>\n",
    "            <origin xyz=\"0.0 0.0 0.0\" rpy=\"0.0 0.0 0.0\"/>\n",
    "            <mass value=\"0.0\"/>\n",
    "            <inertia ixx=\"0.0\" ixy=\"0.0\" ixz=\"0.0\" iyy=\"0.0\" iyz=\"0.0\" izz=\"0.0\"/>\n",
    "        </inertial>\n",
    "        <visual>\n",
    "            <origin xyz=\"0.0 0.0 0.2\" rpy=\"0.0 0.0 0.0\"/>\n",
    "            <geometry>\n",
    "               <cylinder radius=\"0.05\" length=\"0.4\"/>\n",
    "            </geometry>\n",
    "            <material name=\"\">\n",
    "                <color rgba=\"1.0 0.0 0.0 1.0\"/>\n",
    "                <texture filename=\"\"/>\n",
    "            </material>\n",
    "        </visual>\n",
    "        <collision>\n",
    "            <origin xyz=\"0.0 0.0 0.0\" rpy=\"0.0 0.0 0.0\"/>\n",
    "            <geometry>\n",
    "                <box size=\"0.0 0.0 0.0\"/>\n",
    "            </geometry>\n",
    "        </collision>\n",
    "    </link>\n",
    "\n",
    "    <joint name=\"joint_3\" type=\"continuous\">\n",
    "        <axis xyz=\"0 1 0\"/>\n",
    "        <parent link=\"link_2\"/>\n",
    "        <child link=\"link_3\"/>\n",
    "        <origin rpy=\"0 0 0\" xyz=\"0.0 0.1 0.35\"/>\n",
    "    </joint>"
   ]
  },
  {
   "cell_type": "raw",
   "metadata": {},
   "source": [
    "<link name=\"link_4\">\n",
    "        <inertial>\n",
    "            <origin xyz=\"0.0 0.0 0.0\" rpy=\"0.0 0.0 0.0\"/>\n",
    "            <mass value=\"0.0\"/>\n",
    "            <inertia ixx=\"0.0\" ixy=\"0.0\" ixz=\"0.0\" iyy=\"0.0\" iyz=\"0.0\" izz=\"0.0\"/>\n",
    "        </inertial>\n",
    "        <visual>\n",
    "            <origin xyz=\"0.0 0.0 0.025\" rpy=\"0.0 0.0 0.0\"/>\n",
    "            <geometry>\n",
    "               <box size=\"0.05 0.05 0.05\"/>\n",
    "            </geometry>\n",
    "            <material name=\"\">\n",
    "                <color rgba=\"1.0 0.0 0.0 1.0\"/>\n",
    "                <texture filename=\"\"/>\n",
    "            </material>\n",
    "        </visual>\n",
    "        <collision>\n",
    "            <origin xyz=\"0.0 0.0 0.0\" rpy=\"0.0 0.0 0.0\"/>\n",
    "            <geometry>\n",
    "                <box size=\"0.0 0.0 0.0\"/>\n",
    "            </geometry>\n",
    "        </collision>\n",
    "    </link>\n",
    "\n",
    "    <joint name=\"joint_4\" type=\"continuous\">\n",
    "        <axis xyz=\"0 0 1\"/>\n",
    "        <parent link=\"link_3\"/>\n",
    "        <child link=\"link_4\"/>\n",
    "        <origin rpy=\"0 0 0\" xyz=\"0.0 0 0.4\"/>\n",
    "    </joint>"
   ]
  },
  {
   "cell_type": "markdown",
   "metadata": {},
   "source": [
    "Ahora generemos un archivo launch, tal que nos permita abrir el visualizador sin usar el paquete tutorial\n",
    "<br>Creemos un archivo llamdao rviz_bazu.launch.\n",
    "<br>Copie y pegue el siguiente código"
   ]
  },
  {
   "cell_type": "raw",
   "metadata": {},
   "source": [
    "<?xml version=\"1.0\"?>\n",
    "<launch>\n",
    "    <param name=\"robot_description\" textfile=\"$(find bazu)/urdf/bazu.urdf\"/>\n",
    "    \n",
    "    <node name=\"rviz_gui\" pkg=\"rviz\" type=\"rviz\" output=\"screen\"/>\n",
    "    \n",
    "    <node name=\"RSP\" pkg=\"robot_state_publisher\" type=\"robot_state_publisher\" output=\"screen\"/>\n",
    "    \n",
    "    <node name=\"JSP\" pkg=\"joint_state_publisher_gui\" type=\"joint_state_publisher_gui\" output=\"screen\"/>\n",
    "    \n",
    "    \n",
    "</launch>"
   ]
  },
  {
   "cell_type": "raw",
   "metadata": {},
   "source": [
    "roslaunch bazu rviz_bazu.launch"
   ]
  },
  {
   "cell_type": "markdown",
   "metadata": {},
   "source": [
    "Pero esto es solo para visualización, en RVIZ funciona, pero ¿Podrá funcionar en Gazebo?\n",
    "<br>Creemos un nuevo archivo llamado gazebo_bazu.launch y copiemos lo siguiente"
   ]
  },
  {
   "cell_type": "code",
   "execution_count": null,
   "metadata": {},
   "outputs": [],
   "source": [
    "<?xml version=\"1.0\"?>\n",
    "<launch>\n",
    "\n",
    "    <param name=\"robot_description\" textfile=\"$(find bazu)/urdf/bazu.urdf\"/> \n",
    "    \n",
    "    <include file=\"$(find gazebo_ros)/launch/empty_world.launch\" />\n",
    "    \n",
    "    <node name=\"spawn_urdf\" pkg=\"gazebo_ros\" type=\"spawn_model\" args=\"-param robot_description -urdf -model bazu\"    />\n",
    "\n",
    "    <node name=\"RSP\" pkg=\"robot_state_publisher\" type=\"robot_state_publisher\" output=\"screen\"/>\n",
    "\n",
    "    <node name=\"JSP\" pkg=\"joint_state_publisher\" type=\"joint_state_publisher\" output=\"screen\"/>\n",
    "\n",
    "\n",
    "</launch>"
   ]
  },
  {
   "cell_type": "raw",
   "metadata": {},
   "source": [
    "roslaunch bazu gazebo_bazu.launch"
   ]
  },
  {
   "cell_type": "markdown",
   "metadata": {},
   "source": [
    "Muy probablemente haya salido la simulación sin el robot\n",
    "<br>Esto es debido a que Gazebo es un entorno de simulación del mundo real\n",
    "<br>Por lo que es necesario definir algunas propiedades del mundo real. \n",
    "<br>Como Inercia, masa del robot y algunos otros parametros."
   ]
  },
  {
   "cell_type": "markdown",
   "metadata": {},
   "source": [
    "1. Colision\n",
    "<br>Para este parametro, lo que haremos es copiar la geometria del parametro visual\n",
    "<br>dentro de la geometria del parametro collision"
   ]
  },
  {
   "cell_type": "markdown",
   "metadata": {},
   "source": [
    "2. Masa\n",
    "<br>La masa en este caso será arbitraria. En caso de tener datos reales o modelos reales, será necesario agregarlo \n",
    "<br>como si fuese un entorno real."
   ]
  },
  {
   "cell_type": "markdown",
   "metadata": {},
   "source": [
    "3. Inercia\n",
    "<br>Para este parametro, será necesario el cálculo de la inercia siguiendo el tutorial\n",
    "<br>[Inertia](http://wiki.ros.org/urdf/Tutorials/Adding%20Physical%20and%20Collision%20Properties%20to%20a%20URDF%20Model)\n",
    "<br>con las formulas de la lista 3D Inertia Tensors [ListofInertia](https://en.wikipedia.org/wiki/List_of_moments_of_inertia) \n",
    "<br>ixx ixy ixz\n",
    "<br>ixy iyy iyz\n",
    "<br>ixz iyz izz"
   ]
  },
  {
   "cell_type": "markdown",
   "metadata": {},
   "source": [
    " <img src=\"images/inertia_cilinder.PNG\" width=\"700px\">"
   ]
  },
  {
   "cell_type": "markdown",
   "metadata": {},
   "source": [
    " <img src=\"images/inertia_box.PNG\" width=\"700px\">"
   ]
  },
  {
   "cell_type": "markdown",
   "metadata": {},
   "source": [
    "<br> m[Kg], r [m]\n",
    "<br>3.1 Base Link Inertias(m = 5.0, r = 0.1, h = 0.05)\n",
    "<br>ixx=\"0.0135\" ixy=\"0.0\" ixz=\"0.0\" iyy=\"0.0135\" iyz=\"0.0\" izz=\"0.025\"\n",
    "<br>\n",
    "<br>3.2 Link 1 Inertias(m = 5.0, r = 0.05, h = 0.5)\n",
    "<br>ixx=\"0.1073\" ixy=\"0.0\" ixz=\"0.0\" iyy=\"0.1073\" iyz=\"0.0\" izz=\"0.00625\"\n",
    "<br>\n",
    "<br>3.3 Link 2 Inertias(m = 2.0, r = 0.05, h = 0.4)\n",
    "<br>ixx=\"0.0279\" ixy=\"0.0\" ixz=\"0.0\" iyy=\"0.0279\" iyz=\"0.0\" izz=\"0.0025\"\n",
    "<br>\n",
    "<br>3.4 Link 3 Inertias(m = 2.0, r = 0.05, h = 0.4)\n",
    "<br>ixx=\"0.0279\" ixy=\"0.0\" ixz=\"0.0\" iyy=\"0.0279\" iyz=\"0.0\" izz=\"0.0025\"\n",
    "<br>\n",
    "<br>3.5 Link 4 Inertias(m = 1.0, h = 0.05, w = 0.05, d = 0.05)\n",
    "<br>ixx=\"0.00417\" ixy=\"0.0\" ixz=\"0.0\" iyy=\"0.00417\" iyz=\"0.0\" izz=\"0.00417\""
   ]
  },
  {
   "cell_type": "markdown",
   "metadata": {},
   "source": [
    "4. Origin\n",
    "<br>Como ultimo el origen en las propiedades de Inercia, Visual y Collision deben ser las mismas"
   ]
  },
  {
   "cell_type": "markdown",
   "metadata": {},
   "source": [
    "Ahora al probar el gazebo_bazu.launch el robot deberia aparecer pero aun hay que configurar unas cosas\n",
    "<br>Los controladores"
   ]
  },
  {
   "cell_type": "markdown",
   "metadata": {},
   "source": [
    "## 2. Controladores"
   ]
  },
  {
   "cell_type": "markdown",
   "metadata": {},
   "source": [
    "http://wiki.ros.org/ros_control"
   ]
  },
  {
   "cell_type": "markdown",
   "metadata": {},
   "source": [
    " <img src=\"images/install_control.PNG\" width=\"700px\">"
   ]
  },
  {
   "cell_type": "markdown",
   "metadata": {},
   "source": [
    "Como vamos a utilizar el paquete ros_control del código fuente oficial de Ros.\n",
    "\n",
    "Vamos a necesitar algunos paquetes para ser instalados.\n",
    "\n",
    "\n",
    "\n",
    "A continuación se muestra una lista de paquetes que vamos a utilizar\n",
    "\n",
    "position controllers\n",
    "\n",
    "joint state controller\n",
    "\n",
    "effort controllers\n",
    "\n",
    "joint trajectory controllers\n",
    "\n",
    "gazebo ros plugins\n",
    "\n",
    "\n",
    "\n",
    "Comandos para instalarlos, y puede utilizar la misma sintaxis para instalar cualquier paquete ros kinetic\n",
    "\n",
    "$ sudo apt-get install ros-kinetic-joint-state-controller\n",
    "\n",
    "$ sudo apt-get install ros-kinetic-effort-controllers\n",
    "\n",
    "$ sudo apt-get install ros-kinetic-position-controllers"
   ]
  },
  {
   "cell_type": "markdown",
   "metadata": {},
   "source": [
    "#### Position controllers"
   ]
  },
  {
   "cell_type": "markdown",
   "metadata": {},
   "source": [
    "Ahora en el urdf agregaremos lo siguiente al final"
   ]
  },
  {
   "cell_type": "raw",
   "metadata": {},
   "source": [
    "<transmission name =\"trans_1\">\n",
    "    <type>transmission_interface/SimpleTransmission</type>\n",
    "    <joint name=\"joint_1\">\n",
    "        <hardwareInterface>hardware_interface/PositionJointInterface</hardwareInterface>\n",
    "    </joint>\n",
    "    <actuator name=\"motor_1\">\n",
    "        <hardwareInterface>hardware_interface/PositionJointInterface</hardwareInterface>\n",
    "        <mechanicalReduction>1</mechanicalReduction>\n",
    "    </actuator>\n",
    "</transmission>"
   ]
  },
  {
   "cell_type": "markdown",
   "metadata": {},
   "source": [
    "Haremos lo mismo con las demas juntas"
   ]
  },
  {
   "cell_type": "raw",
   "metadata": {},
   "source": [
    "<transmission name =\"trans_2\">\n",
    "    <type>transmission_interface/SimpleTransmission</type>\n",
    "    <joint name=\"joint_2\">\n",
    "        <hardwareInterface>hardware_interface/PositionJointInterface</hardwareInterface>\n",
    "    </joint>\n",
    "    <actuator name=\"motor_2\">\n",
    "        <hardwareInterface>hardware_interface/PositionJointInterface</hardwareInterface>\n",
    "        <mechanicalReduction>1</mechanicalReduction>\n",
    "    </actuator>\n",
    "</transmission>\n",
    "\n",
    "<transmission name =\"trans_3\">\n",
    "    <type>transmission_interface/SimpleTransmission</type>\n",
    "    <joint name=\"joint_3\">\n",
    "        <hardwareInterface>hardware_interface/PositionJointInterface</hardwareInterface>\n",
    "    </joint>\n",
    "    <actuator name=\"motor_3\">\n",
    "        <hardwareInterface>hardware_interface/PositionJointInterface</hardwareInterface>\n",
    "        <mechanicalReduction>1</mechanicalReduction>\n",
    "    </actuator>\n",
    "</transmission>\n",
    "\n",
    "<transmission name =\"trans_4\">\n",
    "    <type>transmission_interface/SimpleTransmission</type>\n",
    "    <joint name=\"joint_4\">\n",
    "        <hardwareInterface>hardware_interface/PositionJointInterface</hardwareInterface>\n",
    "    </joint>\n",
    "    <actuator name=\"motor_4\">\n",
    "        <hardwareInterface>hardware_interface/PositionJointInterface</hardwareInterface>\n",
    "        <mechanicalReduction>1</mechanicalReduction>\n",
    "    </actuator>\n",
    "</transmission>"
   ]
  },
  {
   "cell_type": "markdown",
   "metadata": {},
   "source": [
    "Al final para asociar el control con gazebo copiamos el siguiente codigo"
   ]
  },
  {
   "cell_type": "raw",
   "metadata": {},
   "source": [
    "<gazebo>\n",
    "    <plugin name=\"control\" filename=\"libgazebo_ros_control.so\"/>\n",
    "    <robotSimType> gazebo_ros_control/DefaultRobotHWSim </robotSimType>\n",
    "    <legacyModeNS>true</legacyModeNS>\n",
    "</gazebo>"
   ]
  },
  {
   "cell_type": "markdown",
   "metadata": {},
   "source": [
    "Siguiendo las convenciones en los paquetes\n",
    "<br>Crearemos una carpeta llamada config\n",
    "<br>Dentro crearemos un archivo llamado position_controller.yaml\n",
    "<br>Y copiaremos esto"
   ]
  },
  {
   "cell_type": "raw",
   "metadata": {},
   "source": [
    "joint_1_controller:\n",
    "  type: \"position_controllers/JointPositionController\"\n",
    "  joint: joint_1\n",
    "  \n",
    "joint_2_controller:\n",
    "  type: \"position_controllers/JointPositionController\"\n",
    "  joint: joint_2\n",
    "\n",
    "joint_3_controller:\n",
    "  type: \"position_controllers/JointPositionController\"\n",
    "  joint: joint_3\n",
    "  \n",
    "joint_4_controller:\n",
    "  type: \"position_controllers/JointPositionController\"\n",
    "  joint: joint_4"
   ]
  },
  {
   "cell_type": "markdown",
   "metadata": {},
   "source": [
    "Ahora para ver los resultados en Gazebo, vamos a crear un nuevo launch, lo llamaremos position_controller_bazu.launch\n",
    "<br>Copiaremos lo mismo del gazebo launch y agregamos lo siguiente"
   ]
  },
  {
   "cell_type": "raw",
   "metadata": {},
   "source": [
    "<rosparam  file=\"$(find bazu)/config/position_controller.yaml\"/>\n",
    "\n",
    "<node name=\"Controller_Spawner\" pkg=\"controller_manager\" type=\"spawner\" args=\"joint_1_controller joint_2_controller joint_3_controller joint_4_controller\" />"
   ]
  },
  {
   "cell_type": "markdown",
   "metadata": {},
   "source": [
    "Para observar los nodos pertenecientes a controller_manager"
   ]
  },
  {
   "cell_type": "raw",
   "metadata": {},
   "source": [
    "rosrun controller_manager [Tab][Tab]"
   ]
  },
  {
   "cell_type": "markdown",
   "metadata": {},
   "source": [
    "Ahora ejecutamos nuestro launch"
   ]
  },
  {
   "cell_type": "raw",
   "metadata": {},
   "source": [
    "roslaunch bazu position_controller_bazu.launch"
   ]
  },
  {
   "cell_type": "markdown",
   "metadata": {},
   "source": [
    "Ahora probemos varias posiciones para las juntas definidas"
   ]
  },
  {
   "cell_type": "raw",
   "metadata": {},
   "source": [
    "rostopic list"
   ]
  },
  {
   "cell_type": "raw",
   "metadata": {},
   "source": [
    "rostopic pub /joint_1_controller/command std_msgs/Float64 \"data: 1.57\""
   ]
  },
  {
   "cell_type": "markdown",
   "metadata": {},
   "source": [
    "#### Effort controllers"
   ]
  },
  {
   "cell_type": "markdown",
   "metadata": {},
   "source": [
    "Ahora crearemos un archivo nuevo en la carpeta config, llamado effort_controller.yaml\n",
    "<br>Copiamos y pegamos lo siguiente"
   ]
  },
  {
   "cell_type": "raw",
   "metadata": {},
   "source": [
    "joint_1_controller:\n",
    "  type: \"effort_controllers/JointPositionController\"\n",
    "  joint: joint_1\n",
    "  pid: {p: 1.0, i: 0.01, d: 1.0}\n",
    "joint_2_controller:\n",
    "  type: \"effort_controllers/JointPositionController\"\n",
    "  joint: joint_2\n",
    "  pid: {p: 1.0, i: 0.01, d: 1.0}\n",
    "\n",
    "joint_3_controller:\n",
    "  type: \"effort_controllers/JointPositionController\"\n",
    "  joint: joint_3\n",
    "  pid: {p: 1.0, i: 0.01, d: 1.0}\n",
    "  \n",
    "joint_4_controller:\n",
    "  type: \"effort_controllers/JointPositionController\"\n",
    "  joint: joint_4\n",
    "  pid: {p: 1.0, i: 0.01, d: 1.0}"
   ]
  },
  {
   "cell_type": "markdown",
   "metadata": {},
   "source": [
    "Asi mismo creamos un archivo launch asociado a este controlador llamado  effort_controller_bazu.launch\n",
    "<br>Copiamos y pegamos lo siguiente"
   ]
  },
  {
   "cell_type": "raw",
   "metadata": {},
   "source": [
    "<?xml version=\"1.0\"?>\n",
    "<launch>\n",
    "\n",
    "    <param name=\"robot_description\" textfile=\"$(find bazu)/urdf/bazu.urdf\"/> \n",
    "    \n",
    "    <include file=\"$(find gazebo_ros)/launch/empty_world.launch\" />\n",
    "    \n",
    "    <node name=\"spawn_urdf\" pkg=\"gazebo_ros\" type=\"spawn_model\" args=\"-param robot_description -urdf -model bazu\"    />\n",
    "\n",
    "    <node name=\"RSP\" pkg=\"robot_state_publisher\" type=\"robot_state_publisher\" output=\"screen\"/>\n",
    "\n",
    "    <rosparam  file=\"$(find bazu)/config/effort_controller.yaml\"/>\n",
    "\n",
    "    <node name=\"Controller_Spawner\" pkg=\"controller_manager\" type=\"spawner\" args=\"joint_1_controller joint_2_controller joint_3_controller joint_4_controller\" />\n",
    "\n",
    "        \n",
    "   \n",
    "    \n",
    "\n",
    "</launch>"
   ]
  },
  {
   "cell_type": "markdown",
   "metadata": {},
   "source": [
    "Y para que no nos de error, hay que cambiar de hardware interface en el urdf"
   ]
  },
  {
   "cell_type": "markdown",
   "metadata": {},
   "source": [
    "Cada que usemos Effort controller: EffortJointInterface\n",
    "<br>Cada que usemos Position controller: PositionJointInterface"
   ]
  },
  {
   "cell_type": "markdown",
   "metadata": {},
   "source": [
    "Ahora si lanzamos nuestra simulacion de gazebo"
   ]
  },
  {
   "cell_type": "raw",
   "metadata": {},
   "source": [
    "roslaunch bazu effort_controller_bazu.launch"
   ]
  },
  {
   "cell_type": "raw",
   "metadata": {},
   "source": [
    "<gazebo>\n",
    "    <plugin name=\"control\" filename=\"libgazebo_ros_control.so\">\n",
    "    <robotSimType> gazebo_ros_control/DefaultRobotHWSim </robotSimType>\n",
    "    <legacyModeNS>true</legacyModeNS>\n",
    "    </plugin>\n",
    "    \n",
    "</gazebo>"
   ]
  },
  {
   "cell_type": "markdown",
   "metadata": {},
   "source": [
    "Podremos observar que nuestro robot hace una especie de rebote con el suelo\n",
    "<br>Verificamos si estan trabajando los pids"
   ]
  },
  {
   "cell_type": "raw",
   "metadata": {},
   "source": [
    "rostopic list"
   ]
  },
  {
   "cell_type": "markdown",
   "metadata": {},
   "source": [
    "Entonces hace falta hacer un tuning de los valores PID\n",
    "<br>Para ello teniendo la simulación abierta, correremos el siguiente codigo"
   ]
  },
  {
   "cell_type": "raw",
   "metadata": {},
   "source": [
    "rosrun rqt_gui rqt_gui"
   ]
  },
  {
   "cell_type": "markdown",
   "metadata": {},
   "source": [
    "Ahora abriremos lo siguiente"
   ]
  },
  {
   "cell_type": "markdown",
   "metadata": {},
   "source": [
    "Visualization -> Plot\n",
    "<br>Configuration -> Dynamic Reconfigure"
   ]
  },
  {
   "cell_type": "markdown",
   "metadata": {},
   "source": [
    "Entonces desde el dynamic reconfigure podremos configurar los PID\n",
    "<br>para que el robot pueda realizar los movimiento correctamente\n",
    "<br>Por cuestion del tiempo, no realizare aquello\n",
    "<br>Sin embargo, avanzaremos a un controlador el cual nos será útil para la siguiente sección"
   ]
  },
  {
   "cell_type": "markdown",
   "metadata": {},
   "source": [
    "#### Joint Trajectorty controllers"
   ]
  },
  {
   "cell_type": "markdown",
   "metadata": {},
   "source": [
    "En el urdf, volvemos a poner el hardware interface de position joint interface"
   ]
  },
  {
   "cell_type": "markdown",
   "metadata": {},
   "source": [
    "Ahora crearemos un archivo nuevo en la carpeta config, llamado joint_trajectory_controller.yaml\n",
    "<br>Copiamos y pegamos lo siguiente"
   ]
  },
  {
   "cell_type": "raw",
   "metadata": {},
   "source": [
    "bazu_controller:\n",
    "  type: \"position_controllers/JointTrajectoryController\"\n",
    "  joints:\n",
    "    - joint_1\n",
    "    - joint_2\n",
    "    - joint_3\n",
    "    - joint_4\n",
    "  constraints:\n",
    "          goal_time: 0.6\n",
    "          stopped_velocity_tolerance: 0.05\n",
    "          joint1: {trajectory: 0.1, goal: 0.1}\n",
    "          joint2: {trajectory: 0.1, goal: 0.1}\n",
    "          joint3: {trajectory: 0.1, goal: 0.1}\n",
    "          joint4: {trajectory: 0.1, goal: 0.1}\n",
    "  stop_trajectory_duration: 0.5\n",
    "  state_publish_rate:  25\n",
    "  action_monitor_rate: 10\n",
    "  "
   ]
  },
  {
   "cell_type": "markdown",
   "metadata": {},
   "source": [
    "Asi mismo creamos un archivo launch asociado a este controlador llamado joint_trajectory_controller_bazu.launch\n",
    "<br>Copiamos y pegamos lo siguiente"
   ]
  },
  {
   "cell_type": "raw",
   "metadata": {},
   "source": [
    "<?xml version=\"1.0\"?>\n",
    "<launch>\n",
    "\n",
    "    <param name=\"robot_description\" textfile=\"$(find bazu)/urdf/bazu.urdf\"/> \n",
    "    \n",
    "    <include file=\"$(find gazebo_ros)/launch/empty_world.launch\" />\n",
    "    \n",
    "    <node name=\"spawn_urdf\" pkg=\"gazebo_ros\" type=\"spawn_model\" args=\"-param robot_description -urdf -model bazu\"    />\n",
    "\n",
    "    <node name=\"RSP\" pkg=\"robot_state_publisher\" type=\"robot_state_publisher\" output=\"screen\"/>\n",
    "\n",
    "    <rosparam  file=\"$(find bazu)/config/joint_trajectory_controller.yaml\"/>\n",
    "\n",
    "    <node name=\"Controller_Spawner\" pkg=\"controller_manager\" type=\"spawner\" args=\"bazu_controller\" />\n",
    "\n",
    "        \n",
    "   \n",
    "    \n",
    "\n",
    "</launch>"
   ]
  },
  {
   "cell_type": "markdown",
   "metadata": {},
   "source": [
    "Para que el robot se vea mejor esteticamente agregamos este codigo al urdf"
   ]
  },
  {
   "cell_type": "raw",
   "metadata": {},
   "source": [
    "<gazebo reference=\"base_link\">\n",
    "    <material>Gazebo/Black</material>\n",
    "</gazebo>\n",
    "<gazebo reference=\"link_1\">\n",
    "    <material>Gazebo/Grey</material>\n",
    "</gazebo>\n",
    "<gazebo reference=\"link_2\">\n",
    "    <material>Gazebo/Orange</material>\n",
    "</gazebo>\n",
    "<gazebo reference=\"link_3\">\n",
    "    <material>Gazebo/Black</material>\n",
    "</gazebo>\n",
    "<gazebo reference=\"link_4\">\n",
    "    <material>Gazebo/Yellow</material>\n",
    "</gazebo>\n"
   ]
  },
  {
   "cell_type": "markdown",
   "metadata": {},
   "source": [
    "Y corremos nuestra simulacion"
   ]
  },
  {
   "cell_type": "raw",
   "metadata": {},
   "source": [
    "roslaunch bazu joint_trajectory_controller_bazu.launch"
   ]
  },
  {
   "cell_type": "markdown",
   "metadata": {},
   "source": [
    "Ahora para darle movimiento a nuestro robot se tienen dos opciones\n",
    "<br>-Codigo de python sobre sus topics asociados\n",
    "<br>-Usando Moveit"
   ]
  },
  {
   "cell_type": "markdown",
   "metadata": {},
   "source": [
    "El dia de hoy usaremos Moveit"
   ]
  },
  {
   "cell_type": "markdown",
   "metadata": {},
   "source": [
    "## 3. Motion Planning con Moveit"
   ]
  },
  {
   "cell_type": "markdown",
   "metadata": {},
   "source": [
    "Para esta seccion se debera seguir el video\n",
    "<br>Los pasos resumidos son los siguientes"
   ]
  },
  {
   "cell_type": "raw",
   "metadata": {},
   "source": [
    "roslaunch moveit_setup_assistant setup_assistant.launch"
   ]
  },
  {
   "cell_type": "markdown",
   "metadata": {},
   "source": [
    "1. Generate a self-collision matrix.\n",
    "\n",
    "2. Add a fixed virtual base joint. e.g.\n",
    "<br>name = 'FixedBase' (arbitrary)\n",
    "<br>child = 'world' (should match the URDF root link)\n",
    "<br>parent = 'world' (reference frame used for motion planning)\n",
    "<br>type = 'fixed'\n",
    "\n",
    "3. Add a planning group called \"arm_robot\"\n",
    "<br>Note: Follow ROS naming guidelines/requirements and don’t use any whitespace, anywhere.\n",
    "<br>a. Set the kinematics solver to KDLKinematicsPlugin\n",
    "<br>b. Define the kinematic chain between base_link and link_4. \n",
    "4. Create a few named positions (e.g. “home”, “allZeros”, etc.) to test with motion-planning.\n",
    "\n",
    "5. Don’t worry about adding end effectors/grippers or passive joints for this exercise.\n",
    "\n",
    "6. Add the controllers, FollowJointTrajectory\n",
    "\n",
    "7. Enter author / maintainer info. (En este paso pondran su nombre completo y correo espol)\n",
    "\n",
    "8. Generate a new package and name it mybazu_moveit_config.\n",
    "make sure to create the package inside your catkin_ws/src directory"
   ]
  },
  {
   "cell_type": "raw",
   "metadata": {},
   "source": [
    "roslaunch bazu_moveit_config demo.launch"
   ]
  },
  {
   "cell_type": "markdown",
   "metadata": {},
   "source": [
    "Y ahora simulamos en Gazebo"
   ]
  },
  {
   "cell_type": "raw",
   "metadata": {},
   "source": [
    "roslaunch bazu_moveit_config demo_gazebo.launch"
   ]
  },
  {
   "cell_type": "markdown",
   "metadata": {},
   "source": [
    "Si es que no se simula en Gazebo, debemos hacer lo siguiente"
   ]
  },
  {
   "cell_type": "markdown",
   "metadata": {},
   "source": [
    "Agregamos lo siguiente en ros_controllers.yaml"
   ]
  },
  {
   "cell_type": "raw",
   "metadata": {},
   "source": [
    "arm_robot_controller:\n",
    "    type: position_controllers/JointTrajectoryController\n",
    "    joints:\n",
    "      - joint_1\n",
    "      - joint_2\n",
    "      - joint_3\n",
    "      - joint_4"
   ]
  },
  {
   "cell_type": "markdown",
   "metadata": {},
   "source": [
    "Y en el archivo ros_controllers.launch, agregamos en args lo siguiente:"
   ]
  },
  {
   "cell_type": "raw",
   "metadata": {},
   "source": [
    "arm_robot_controller"
   ]
  },
  {
   "cell_type": "markdown",
   "metadata": {},
   "source": [
    "Entonces, volvemos a simular y el Gazebo ya debe conectarse con Rviz"
   ]
  },
  {
   "cell_type": "raw",
   "metadata": {},
   "source": [
    "roslaunch bazu_moveit_config demo_gazebo.launch"
   ]
  },
  {
   "cell_type": "markdown",
   "metadata": {},
   "source": [
    "Es posible que la posicion inicial no cambie, no hay que preocuparnos mucho de ello\n",
    "<br>En versiones superiores de ROS, como ROS Noetic, este problema se soluciona"
   ]
  },
  {
   "cell_type": "markdown",
   "metadata": {},
   "source": [
    "__El entregable 1 va a ser la carpeta generada por Moveit en un archivo .rar__"
   ]
  },
  {
   "cell_type": "markdown",
   "metadata": {},
   "source": [
    "## 4. Control de un robot industrial personalizado"
   ]
  },
  {
   "cell_type": "markdown",
   "metadata": {},
   "source": [
    "La comunidad de ROS en este ámbito, llamado [ROS Industrial](https://rosindustrial.org/), ha colaborado arduamente en crear <br>software y hardware asociado a ROS para su uso en la industria. Brazos Robóticos como los  [robots \n",
    "<br>universales](https://www.universal-robots.com/), [robots franka emika](https://www.franka.de/), [robots ABB](https://new.abb.com/products/robotics/industrial-robots), [Fanuc](https://www.fanucamerica.com/products/robots/series), entre otros, han sido robots que se han desarrolado con éxito para su uso con ROS.\n",
    "<br>Cuyo contenido se ha compartido a la comunidad a través de sus repositorios en Github [ROS Industrial](https://github.com/ros-industrial), [ROS Industrial Consortium](https://github.com/ros-industrial-consortium)\n",
    "<br>y su blog [Blog_ROS_Industrial](https://rosindustrial.org/news)"
   ]
  },
  {
   "cell_type": "markdown",
   "metadata": {},
   "source": [
    "A partir de este punto, el modelado de los robots deja de lado el uso de solo cilindros o cubos.\n",
    "<br>La geometría del robot comienza a basarse en modelos CAD y a requerir de paquetes externos que en ocasiones\n",
    "<br>deben ser adaptados para las necesidades del usuario."
   ]
  },
  {
   "cell_type": "markdown",
   "metadata": {},
   "source": [
    "Afortunadamente, en este curso veremos como configurar y controlar correctamente un robot industrial en ROS,\n",
    "<br>haciendo uso de los temas aprendidos hasta el momento y algo más. Posteriormente se realizará una práctica de pick\n",
    "<br>and place usando el robot configurado y los plugins necesarios.\n"
   ]
  },
  {
   "cell_type": "raw",
   "metadata": {},
   "source": [
    "http://wiki.ros.org/Industrial/Tutorials/WorkingWithRosIndustrialRobotSupportPackages"
   ]
  },
  {
   "cell_type": "markdown",
   "metadata": {},
   "source": [
    "Correr lo siguiente"
   ]
  },
  {
   "cell_type": "raw",
   "metadata": {},
   "source": [
    "sudo apt-get update"
   ]
  },
  {
   "cell_type": "raw",
   "metadata": {},
   "source": [
    "sudo apt install ros-melodic-industrial-core"
   ]
  },
  {
   "cell_type": "markdown",
   "metadata": {},
   "source": [
    "#### 4.1 Seleccionando el robot"
   ]
  },
  {
   "cell_type": "markdown",
   "metadata": {},
   "source": [
    "Para este tutorial, usaremos el robot KR 10 de la empresa Kuka Robotics"
   ]
  },
  {
   "cell_type": "markdown",
   "metadata": {},
   "source": [
    "Este robot puede ser clonado desde el respositorio de [Kuka Experimental](https://github.com/ros-industrial/kuka_experimental).\n",
    "<br>Dirigámonos a la carpeta catkin_ws/src"
   ]
  },
  {
   "cell_type": "raw",
   "metadata": {},
   "source": [
    "cd ~/catkin_ws/src"
   ]
  },
  {
   "cell_type": "raw",
   "metadata": {},
   "source": [
    "git clone https://github.com/ros-industrial/kuka_experimental"
   ]
  },
  {
   "cell_type": "raw",
   "metadata": {},
   "source": [
    "git clone https://github.com/ros-industrial/kuka.git"
   ]
  },
  {
   "cell_type": "markdown",
   "metadata": {},
   "source": [
    "Podemos borrar las carpetas de los paquetes que no usaremos para ahorrar almacenamiento.\n",
    "Y procedemos a compilar en el espacio de trabajo"
   ]
  },
  {
   "cell_type": "raw",
   "metadata": {},
   "source": [
    "cd ~/catkin_ws/"
   ]
  },
  {
   "cell_type": "raw",
   "metadata": {},
   "source": [
    "catkin_make"
   ]
  },
  {
   "cell_type": "markdown",
   "metadata": {},
   "source": [
    "Como se puede observar si ejecutamos algunos de los archivos .launch, estos nos mostraran el robot en RVIZ.\n",
    "<br>Mas no se muestra en Gazebo. Por lo que no se puede realizar simulaciones de un mundo real."
   ]
  },
  {
   "cell_type": "raw",
   "metadata": {},
   "source": [
    "roslaunch kuka_kr10_support test_kr10r1420.launch "
   ]
  },
  {
   "cell_type": "markdown",
   "metadata": {},
   "source": [
    "Observando el entorno de RVIZ y el robot que se ha cargado, podemos notar que se forma en base a modelos CAD del robot.\n",
    "<br>Si revisamos el URDF, podremos ver que se han cargado los modelos CAD de la carpeta \"meshes\", tanto para\n",
    "<br>la parte visual como para la parte de colision.\n",
    "<br>Ademas se puede observar que tenemos un comando de control para las juntas a partir del joint_state_publisher"
   ]
  },
  {
   "cell_type": "markdown",
   "metadata": {},
   "source": [
    "Este paquete es inicial, para nosotros poder usar y aplicar todas las herramientas que hemos aprendido\n",
    "<br>debemos hacer unos cambios en esta paqueteria"
   ]
  },
  {
   "cell_type": "markdown",
   "metadata": {},
   "source": [
    "Crearemos una nueva carpeta donde alojaremos nuestros paquetes configurados, para esta práctica crearemos 4 paquetes.\n",
    "<br>El objetivo es ser más ordenados y tener una paquetería que pueda compartirse y entenderse por el público en general.\n",
    "<br>Serán los siguientes:\n",
    "1. kr10_description: Este paquete contendrá los archivos URDF y Xacro para diferentes configuraciones del robot.\n",
    "2. kr10_gazebo: Este paquete contendrá la comunicación con el simulador Gazebo, así como los controladores, incluidos ejemplos y escenas.\n",
    "3. kr10_master: Este paquete contendrá diferentes ejemplos y archivos de python/C para probar el movimiento del robot.\n",
    "4. kr10_moveit: Este paquete contendrá las diferentes paquetes MoveIt de diferentes configuraciones del robot"
   ]
  },
  {
   "cell_type": "markdown",
   "metadata": {},
   "source": [
    "Nos ubicamos en la carpeta src de nuestro espacio de trabajo y creamos la carpeta de nuestro robot"
   ]
  },
  {
   "cell_type": "raw",
   "metadata": {},
   "source": [
    "cd ~/catkin_ws/src"
   ]
  },
  {
   "cell_type": "raw",
   "metadata": {},
   "source": [
    "mkdir KUKA_5"
   ]
  },
  {
   "cell_type": "markdown",
   "metadata": {},
   "source": [
    "ahora dentro de la carpeta "
   ]
  },
  {
   "cell_type": "raw",
   "metadata": {},
   "source": [
    "cd KUKA_10"
   ]
  },
  {
   "cell_type": "raw",
   "metadata": {},
   "source": [
    "catkin_create_pkg kr5_description std_msgs rospy"
   ]
  },
  {
   "cell_type": "raw",
   "metadata": {},
   "source": [
    "catkin_create_pkg kr5_gazebo std_msgs rospy"
   ]
  },
  {
   "cell_type": "raw",
   "metadata": {},
   "source": [
    "catkin_create_pkg kr5_master std_msgs rospy"
   ]
  },
  {
   "cell_type": "raw",
   "metadata": {},
   "source": [
    "catkin_create_pkg kr5_moveit std_msgs rospy"
   ]
  },
  {
   "cell_type": "raw",
   "metadata": {},
   "source": [
    "Imagen"
   ]
  },
  {
   "cell_type": "markdown",
   "metadata": {},
   "source": [
    "Es recomendable que los paquetes del repositorio original contengan las dependencias con las que vinieron creadas\n",
    "<br>Por ejemplo, en nuestro caso contamos con el support del robot, el cual ahora se llamará kr10_description\n",
    "<br>Por lo tanto, este paquete debe contener las dependencias del paquete support.\n",
    "<br>Lo mismo si ya viniese el Gazebo proeconfigurado. En este caso no habrá problema con crearlo a nuestro modo.\n",
    "<br>Es posible que se agregue unas cuantas dependencias si lo requiere el funcionamiento del robot."
   ]
  },
  {
   "cell_type": "markdown",
   "metadata": {},
   "source": [
    "Ahora, se puede proceder de dos maneras:\n",
    "<br>Para describir a nuestro robot podemos asociar nuestro paquete al urdf del paquete support\n",
    "<br>O podemos copiar los archivos necesarios de la carpeta support a nuestro paquete, no depender de él\n",
    "<br>En este caso considero recomendable la segunda opción. Puesto que hay que realizar algunas modificaciones en el URDF de forma seguida\n",
    "<br>Dado el caso, cambiar de paquete a menudo, resultará tedioso e ineficiente a la hora de hacer el debug."
   ]
  },
  {
   "cell_type": "markdown",
   "metadata": {},
   "source": [
    "Por ello, procederemos a descargar la carpeta correspondiente al support\n",
    "<br>Y el archivo .tar obtenido lo subimos a la carpeta de nuestro paquete descripción\n",
    "<br>Para descomprimir el archivo ejecutamos lo siguiente"
   ]
  },
  {
   "cell_type": "markdown",
   "metadata": {},
   "source": [
    "Nos ubicamos en nuestra carpeta del paquete descripción"
   ]
  },
  {
   "cell_type": "raw",
   "metadata": {},
   "source": [
    "roscd kr10_description"
   ]
  },
  {
   "cell_type": "raw",
   "metadata": {},
   "source": [
    "tar -xvf kuka_kr10_support.tar"
   ]
  },
  {
   "cell_type": "markdown",
   "metadata": {},
   "source": [
    "Observarán que se sobreescriben los archivos CMakeList.txt y package.xml\n",
    "<br>Esto hay que solucionarlo cambiándole el nombre del paquete al de kr10_description y agregando estas líneas\n",
    "<br>para que se agreguen las dependencias."
   ]
  },
  {
   "cell_type": "markdown",
   "metadata": {},
   "source": [
    "En el archivo CMakeList.txt, copiar y pegar en la sección de find_package"
   ]
  },
  {
   "cell_type": "raw",
   "metadata": {},
   "source": [
    "find_package(catkin REQUIRED COMPONENTS\n",
    "  rospy\n",
    "  std_msgs)"
   ]
  },
  {
   "cell_type": "markdown",
   "metadata": {},
   "source": [
    "En el archivo package.xml, copiar y pegar"
   ]
  },
  {
   "cell_type": "code",
   "execution_count": null,
   "metadata": {},
   "outputs": [],
   "source": [
    "<build_depend>rospy</build_depend>\n",
    "<build_depend>std_msgs</build_depend>\n",
    "<build_export_depend>rospy</build_export_depend>\n",
    "<build_export_depend>std_msgs</build_export_depend>\n",
    "<exec_depend>rospy</exec_depend>\n",
    "<exec_depend>std_msgs</exec_depend>"
   ]
  },
  {
   "cell_type": "markdown",
   "metadata": {},
   "source": [
    "procedemos a volver a compilar el espacio de trabajo para verificar que todo está ok"
   ]
  },
  {
   "cell_type": "raw",
   "metadata": {},
   "source": [
    "cd ~/catkin_ws"
   ]
  },
  {
   "cell_type": "raw",
   "metadata": {},
   "source": [
    "catkin_make"
   ]
  },
  {
   "cell_type": "markdown",
   "metadata": {},
   "source": [
    "Ahora que ya compiló correctamente. Procedemos a ajustar nuestro paquete\n",
    "<br>De modo que se cambien los nombres de algunas carpetas a unos más sencillos\n",
    "<br>Así mismo que el URDF y XACRO se relacione con nuestra paquetería de descripción"
   ]
  },
  {
   "cell_type": "markdown",
   "metadata": {},
   "source": [
    "1. Borramos la carpeta test (También quitarlo del CMakeList.txt) y la carpeta src\n",
    "2. Cambiamos el nombre a la carpeta de los meshes\n",
    "3. Cambiamos el nombre a los archivos .launch y .yaml\n",
    "4. Modificamos todos los nombres relacionados dentro de los archivos de modo que hagan referencia al nombre de nuestro paquete descripción (Ver video)"
   ]
  },
  {
   "cell_type": "markdown",
   "metadata": {},
   "source": [
    "Para el archivo .xacro se puede remplazar varias coincidencias con la opción Change All Ocurrences"
   ]
  },
  {
   "cell_type": "raw",
   "metadata": {},
   "source": [
    "Imagen"
   ]
  },
  {
   "cell_type": "raw",
   "metadata": {},
   "source": [
    "Volvemos a compilar y probamos nuestro archivo .launch"
   ]
  },
  {
   "cell_type": "raw",
   "metadata": {},
   "source": [
    "cd ~/catkin_ws"
   ]
  },
  {
   "cell_type": "raw",
   "metadata": {},
   "source": [
    "catkin_make"
   ]
  },
  {
   "cell_type": "raw",
   "metadata": {},
   "source": [
    "roslaunch kr10_description test_kr10.launch"
   ]
  },
  {
   "cell_type": "markdown",
   "metadata": {},
   "source": [
    "Se podrá observar que nuestro robot funciona correctamente en RVIZ"
   ]
  },
  {
   "cell_type": "markdown",
   "metadata": {},
   "source": [
    "#### 4.2 XACRO y URDF para ordenar el robot"
   ]
  },
  {
   "cell_type": "markdown",
   "metadata": {},
   "source": [
    "Posterior a ello, comenzamos a modificar a nuestro archivo .xacro, de modo que permita una simulación en Gazebo\n",
    "<br>Para ello le agregamos las inercias y la transmisión a cada uno de los eslabones.\n",
    "<br>Así mismo se le agrega el plugin de control\n",
    "<br>Una forma ordenada de hacer esto es usando XACRO, realizaremos lo siguiente:"
   ]
  },
  {
   "cell_type": "markdown",
   "metadata": {},
   "source": [
    "1. En nuestro archivo kr10_macro.xacro, agregamos la inercia en cada uno de los eslabones.\n",
    "<br>Por el momento, este será un valor que no nos fijaremos a detalle, puesto que solo lo usaremos por \n",
    "<br>ser un requisito para la simulación. En un momento cambiaremos el entorno para que la gravedad no afecte al robot\n",
    "<br>de modo que la inercia no tenga efecto considerable sobre el mismo.\n",
    "<br>Por conveniencia, dejar una masa de mayor valor en la base"
   ]
  },
  {
   "cell_type": "markdown",
   "metadata": {},
   "source": [
    "En esta parte, encontramos que estos valores de inercia son recomedables para cada eslabón debido a su menor efecto en Gazebo"
   ]
  },
  {
   "cell_type": "markdown",
   "metadata": {},
   "source": [
    "Base_link"
   ]
  },
  {
   "cell_type": "code",
   "execution_count": null,
   "metadata": {},
   "outputs": [],
   "source": [
    "<inertial>\n",
    "        <mass value=\"23.085357\"/>\n",
    "        <origin rpy=\"0.0 0.0 0.0\" xyz=\"0.007579 0.000017 0.180670\"/>\n",
    "        <inertia ixx=\"0.343576\" ixy=\"-0.000062\" ixz=\"-0.002079\" iyy=\"0.336217\" iyz=\"-0.000014\" izz=\"0.334050\"/>\n",
    "</inertial>"
   ]
  },
  {
   "cell_type": "markdown",
   "metadata": {},
   "source": [
    "link_1"
   ]
  },
  {
   "cell_type": "code",
   "execution_count": null,
   "metadata": {},
   "outputs": [],
   "source": [
    "<inertial>\n",
    "        <mass value=\"45.357763\"/>\n",
    "        <origin rpy=\"0.0 0.0 0.0\" xyz=\"0.085479 -0.002547 -0.040488\"/>\n",
    "        <inertia ixx=\"0.839141\" ixy=\"0.022637\" ixz=\"0.162457\" iyy=\"1.030146\" iyz=\"0.027416\" izz=\"1.064698\"/>\n",
    "</inertial>"
   ]
  },
  {
   "cell_type": "markdown",
   "metadata": {},
   "source": [
    "link_2"
   ]
  },
  {
   "cell_type": "code",
   "execution_count": null,
   "metadata": {},
   "outputs": [],
   "source": [
    "<inertial>\n",
    "        <mass value=\"51.266495\"/>\n",
    "        <origin rpy=\"0.0 0.0 0.0\" xyz=\"-0.000002 0.264164 0.347704\"/>\n",
    "        <inertia ixx=\"5.272800\" ixy=\"0.000010\" ixz=\"0.000017\" iyy=\"5.536809\" iyz=\"-0.008261\" izz=\"0.486191\"/>\n",
    "</inertial>"
   ]
  },
  {
   "cell_type": "markdown",
   "metadata": {},
   "source": [
    "link_3"
   ]
  },
  {
   "cell_type": "code",
   "execution_count": null,
   "metadata": {},
   "outputs": [],
   "source": [
    "<inertial>\n",
    "        <mass value=\"19.754401\"/>\n",
    "        <origin rpy=\"0.0 0.0 0.0\" xyz=\"-0.000255 0.016478 -0.003819\"/>\n",
    "        <inertia ixx=\"0.249388\" ixy=\"-0.004901\" ixz=\"0.004825\" iyy=\"0.211780\" iyz=\"0.000574\" izz=\"0.238488\"/>\n",
    "</inertial>"
   ]
  },
  {
   "cell_type": "markdown",
   "metadata": {},
   "source": [
    "link_4"
   ]
  },
  {
   "cell_type": "code",
   "execution_count": null,
   "metadata": {},
   "outputs": [],
   "source": [
    "<inertial>\n",
    "        <mass value=\"15.287896\"/>\n",
    "        <origin rpy=\"0.0 0.0 0.0\" xyz=\"-0.015515 0.000164 0.340348\"/>\n",
    "        <inertia ixx=\"0.331593\" ixy=\"0.000055\" ixz=\"-0.010688\" iyy=\"0.320895\" iyz=\"0.000058\" izz=\"0.086557\"/>\n",
    "</inertial>"
   ]
  },
  {
   "cell_type": "markdown",
   "metadata": {},
   "source": [
    "link_5"
   ]
  },
  {
   "cell_type": "code",
   "execution_count": null,
   "metadata": {},
   "outputs": [],
   "source": [
    "<inertial>\n",
    "        <mass value=\"0.548088\"/>\n",
    "        <origin rpy=\"0.0 0.0 0.0\" xyz=\"0.000000 -0.000347 0.023671\"/>\n",
    "        <inertia ixx=\"0.000876\" ixy=\"0.000000\" ixz=\"0.000000\" iyy=\"0.000889\" iyz=\"0.000005\" izz=\"0.000412\"/>\n",
    "</inertial>"
   ]
  },
  {
   "cell_type": "markdown",
   "metadata": {},
   "source": [
    "link_6"
   ]
  },
  {
   "cell_type": "code",
   "execution_count": null,
   "metadata": {},
   "outputs": [],
   "source": [
    "<inertial>\n",
    "        <mass value=\"0.038484\"/>\n",
    "        <origin rpy=\"0.0 0.0 0.0\" xyz=\"-0.000245 0.000000 -0.007626\"/>\n",
    "        <inertia ixx=\"0.000011\" ixy=\"0.000000\" ixz=\"0.000000\" iyy=\"0.000011\" iyz=\"0.000000\" izz=\"0.000021\"/>\n",
    "</inertial>"
   ]
  },
  {
   "cell_type": "markdown",
   "metadata": {},
   "source": [
    "Así mismo hay que modificar el esfuerzo que realiza cada junta y agregar la siguiente línea en cada junta."
   ]
  },
  {
   "cell_type": "raw",
   "metadata": {},
   "source": [
    "<dynamics damping=\"0.0\" friction=\"0.0\"/>"
   ]
  },
  {
   "cell_type": "raw",
   "metadata": {},
   "source": [
    "joint_a1: 692 #Nm\n",
    "joint_a2: 574\n",
    "joint_a3: 242\n",
    "joint_a4: 58\n",
    "joint_a5: 29\n",
    "joint_a6: 29"
   ]
  },
  {
   "cell_type": "markdown",
   "metadata": {},
   "source": [
    "2.  En nuestro paquete de Gazebo, vamos a agregar la transmisión de cada uno de los eslabones, \n",
    "<br>así mismo como el plugin de control, esto siguiendo la convención que establecimos que en esta\n",
    "<br>paquetería iría todo lo relacionado con Gazebo"
   ]
  },
  {
   "cell_type": "markdown",
   "metadata": {},
   "source": [
    "Nos ubicamos en la carpeta del paquete de Gazebo"
   ]
  },
  {
   "cell_type": "raw",
   "metadata": {},
   "source": [
    "roscd kr10_gazebo"
   ]
  },
  {
   "cell_type": "markdown",
   "metadata": {},
   "source": [
    "Creamos tres carpetas, llamadas launch, urdf y config"
   ]
  },
  {
   "cell_type": "raw",
   "metadata": {},
   "source": [
    "mkdir launch\n",
    "mkdir urdf\n",
    "mkdir config"
   ]
  },
  {
   "cell_type": "markdown",
   "metadata": {},
   "source": [
    "Podemos eliminar el archivo src del paquete"
   ]
  },
  {
   "cell_type": "markdown",
   "metadata": {},
   "source": [
    "Nos ubicamos en la carpeta urdf del paquete de Gazebo. Y creamos un nuevo archivo"
   ]
  },
  {
   "cell_type": "raw",
   "metadata": {},
   "source": [
    "roscd kr10_gazebo/urdf"
   ]
  },
  {
   "cell_type": "raw",
   "metadata": {},
   "source": [
    "touch gazebo_transmission.xacro"
   ]
  },
  {
   "cell_type": "markdown",
   "metadata": {},
   "source": [
    "Abrimos el archivo con el Code Editor y pegamos lo siguiente:"
   ]
  },
  {
   "cell_type": "code",
   "execution_count": null,
   "metadata": {},
   "outputs": [],
   "source": [
    "<?xml version=\"1.0\"?>\n",
    "<robot xmlns:xacro=\"http://wiki.ros.org/xacro\">\n",
    "<xacro:include filename=\"$(find kr10_description)/urdf/kr10_macro.xacro\"/>\n",
    "<xacro:macro name=\"kuka_kr10_robot\" params=\"prefix\">\n",
    "\n",
    "  <!-- get URDF description of KUKA KR10 model -->\n",
    "  <xacro:kuka_kr10 prefix=\"${prefix}\" />\n",
    "\n",
    "  <!-- transmission list -->\n",
    "  <transmission name=\"${prefix}tran1\">\n",
    "    <robotNamespace>/${prefix}</robotNamespace>\n",
    "    <type>transmission_interface/SimpleTransmission</type>\n",
    "    <joint name=\"${prefix}joint_a1\">\n",
    "      <hardwareInterface>hardware_interface/PositionJointInterface</hardwareInterface>\n",
    "    </joint>\n",
    "    <actuator name=\"${prefix}motor1\">\n",
    "      <mechanicalReduction>1</mechanicalReduction>\n",
    "      <hardwareInterface>hardware_interface/PositionJointInterface</hardwareInterface>\n",
    "    </actuator>\n",
    "  </transmission>\n",
    "  <transmission name=\"${prefix}tran2\">\n",
    "    <robotNamespace>/${prefix}</robotNamespace>\n",
    "    <type>transmission_interface/SimpleTransmission</type>\n",
    "    <joint name=\"${prefix}joint_a2\">\n",
    "      <hardwareInterface>hardware_interface/PositionJointInterface</hardwareInterface>\n",
    "    </joint>\n",
    "    <actuator name=\"${prefix}motor2\">\n",
    "      <mechanicalReduction>1</mechanicalReduction>\n",
    "      <hardwareInterface>hardware_interface/PositionJointInterface</hardwareInterface>\n",
    "    </actuator>\n",
    "  </transmission>\n",
    "  <transmission name=\"${prefix}tran3\">\n",
    "    <robotNamespace>/${prefix}</robotNamespace>\n",
    "    <type>transmission_interface/SimpleTransmission</type>\n",
    "    <joint name=\"${prefix}joint_a3\">\n",
    "      <hardwareInterface>hardware_interface/PositionJointInterface</hardwareInterface>\n",
    "    </joint>\n",
    "    <actuator name=\"${prefix}motor3\">\n",
    "      <mechanicalReduction>1</mechanicalReduction>\n",
    "      <hardwareInterface>hardware_interface/PositionJointInterface</hardwareInterface>\n",
    "    </actuator>\n",
    "  </transmission>\n",
    "  <transmission name=\"${prefix}tran4\">\n",
    "    <robotNamespace>/${prefix}</robotNamespace>\n",
    "    <type>transmission_interface/SimpleTransmission</type>\n",
    "    <joint name=\"${prefix}joint_a4\">\n",
    "      <hardwareInterface>hardware_interface/PositionJointInterface</hardwareInterface>\n",
    "    </joint>\n",
    "    <actuator name=\"${prefix}motor4\">\n",
    "      <mechanicalReduction>1</mechanicalReduction>\n",
    "      <hardwareInterface>hardware_interface/PositionJointInterface</hardwareInterface>\n",
    "    </actuator>\n",
    "  </transmission>\n",
    "  <transmission name=\"${prefix}tran5\">\n",
    "    <robotNamespace>/${prefix}</robotNamespace>\n",
    "    <type>transmission_interface/SimpleTransmission</type>\n",
    "    <joint name=\"${prefix}joint_a5\">\n",
    "      <hardwareInterface>hardware_interface/PositionJointInterface</hardwareInterface>\n",
    "    </joint>\n",
    "    <actuator name=\"${prefix}motor5\">\n",
    "      <mechanicalReduction>1</mechanicalReduction>\n",
    "      <hardwareInterface>hardware_interface/PositionJointInterface</hardwareInterface>\n",
    "    </actuator>\n",
    "  </transmission>\n",
    "  <transmission name=\"${prefix}tran6\">\n",
    "    <robotNamespace>/${prefix}</robotNamespace>\n",
    "    <type>transmission_interface/SimpleTransmission</type>\n",
    "    <joint name=\"${prefix}joint_a6\">\n",
    "      <hardwareInterface>hardware_interface/PositionJointInterface</hardwareInterface>\n",
    "    </joint>\n",
    "    <actuator name=\"${prefix}motor6\">\n",
    "      <mechanicalReduction>1</mechanicalReduction>\n",
    "      <hardwareInterface>hardware_interface/PositionJointInterface</hardwareInterface>\n",
    "    </actuator>\n",
    "  </transmission>\n",
    "  <!-- end of transmission list -->\n",
    "\n",
    "  <!-- Gazebo-specific link properties -->\n",
    "  <gazebo reference=\"${prefix}base_link\">\n",
    "    <material>Gazebo/Black</material>\n",
    "    <turnGravityOff>true</turnGravityOff>\n",
    "  </gazebo>\n",
    "  <gazebo reference=\"${prefix}link_1\">\n",
    "    <material>Gazebo/Orange</material>\n",
    "    <turnGravityOff>true</turnGravityOff>\n",
    "  </gazebo>\n",
    "  <gazebo reference=\"${prefix}link_2\">\n",
    "    <material>Gazebo/Orange</material>\n",
    "    <turnGravityOff>true</turnGravityOff>\n",
    "  </gazebo>  \n",
    "  <gazebo reference=\"${prefix}link_3\">\n",
    "    <material>Gazebo/Orange</material>\n",
    "    <turnGravityOff>true</turnGravityOff>\n",
    "  </gazebo>\n",
    "  <gazebo reference=\"${prefix}link_4\">\n",
    "    <material>Gazebo/Orange</material>\n",
    "    <turnGravityOff>true</turnGravityOff>\n",
    "  </gazebo>\n",
    "  <gazebo reference=\"${prefix}link_5\">\n",
    "    <material>Gazebo/Grey</material>\n",
    "    <turnGravityOff>true</turnGravityOff>\n",
    "  </gazebo>\n",
    "  <gazebo reference=\"${prefix}link_6\">\n",
    "    <material>Gazebo/Grey</material>\n",
    "    <turnGravityOff>true</turnGravityOff>\n",
    "  </gazebo>\n",
    "\n",
    "  <!-- ros_control plugin -->\n",
    "  <gazebo>\n",
    "    <plugin name=\"gazebo_ros_control\" filename=\"libgazebo_ros_control.so\">\n",
    "      <robotNamespace>/${prefix}</robotNamespace>\n",
    "      <robotSimType>gazebo_ros_control/DefaultRobotHWSim</robotSimType>\n",
    "    </plugin>\n",
    "  </gazebo>  \n",
    "\n",
    "  </xacro:macro>\n",
    "</robot>"
   ]
  },
  {
   "cell_type": "markdown",
   "metadata": {},
   "source": [
    "Si en el Code Editor sale sin color, se puede modificar el lenguaje del archivo como hicimos en la primera tarea"
   ]
  },
  {
   "cell_type": "markdown",
   "metadata": {},
   "source": [
    "Explicando lo que realiza este archivo:"
   ]
  },
  {
   "cell_type": "raw",
   "metadata": {},
   "source": [
    "<xacro:include filename=\"$(find kr10_description)/urdf/kr10_macro.xacro\"/>"
   ]
  },
  {
   "cell_type": "markdown",
   "metadata": {},
   "source": [
    "Esta línea permite llamar al archivo kr10_macro.xacro el cual contiene toda la información estructural de nuestro robot"
   ]
  },
  {
   "cell_type": "raw",
   "metadata": {},
   "source": [
    "<xacro:macro name=\"kuka_kr10_robot\" params=\"prefix\">\n",
    "\n",
    "  <!-- get URDF description of KUKA KR10 model -->\n",
    "  <xacro:kuka_kr10 prefix=\"${prefix}\" />"
   ]
  },
  {
   "cell_type": "markdown",
   "metadata": {},
   "source": [
    "Estas líneas permiten establecer un valor a la variable prefix\n",
    "<br>Esto se realiza porque el archivo kr10_macro.xacro tiene una variable llamada prefix\n",
    "<br>La cual debe ser evaluada cada vez que se lo llame, ya sea por otro .xacro o por medio de un archivo .launch\n",
    "<br>Si no se lo define puede dar error."
   ]
  },
  {
   "cell_type": "code",
   "execution_count": null,
   "metadata": {},
   "outputs": [],
   "source": [
    "<gazebo reference=\"${prefix}base_link\">\n",
    "    <material>Gazebo/Black</material>\n",
    "    <turnGravityOff>true</turnGravityOff>\n",
    "  </gazebo>"
   ]
  },
  {
   "cell_type": "markdown",
   "metadata": {},
   "source": [
    "Estas líneas permiten desactivar el efecto de la gravedad en nuestro robot.\n",
    "<br>De modo que el valor de la inercia no afecte considerablemente el resultado del movimiento."
   ]
  },
  {
   "cell_type": "code",
   "execution_count": null,
   "metadata": {},
   "outputs": [],
   "source": [
    " <!-- ros_control plugin -->\n",
    "  <gazebo>\n",
    "    <plugin name=\"gazebo_ros_control\" filename=\"libgazebo_ros_control.so\">\n",
    "      <robotNamespace>/${prefix}</robotNamespace>\n",
    "      <robotSimType>gazebo_ros_control/DefaultRobotHWSim</robotSimType>\n",
    "    </plugin>\n",
    "  </gazebo>  "
   ]
  },
  {
   "cell_type": "markdown",
   "metadata": {},
   "source": [
    "El plugin de control para Gazebo. En este caso como en otras herramientas de Gazebo, la comunidad suele compartir plugins\n",
    "<br>Estos deben ser agregados dependiendo de lo que se necesite.\n",
    "<br>En breve observaremos otros plugins muy útiles"
   ]
  },
  {
   "cell_type": "markdown",
   "metadata": {},
   "source": [
    "Lo correspondiente a la transmisión, se explico en este tutorial. En este archivo .xacro simplemente\n",
    "<br>lo asocia a cada una de las juntas. Importante verificar los nombres de las juntas, que sean las mismas\n",
    "<br>definidas en el .xacro de descripción"
   ]
  },
  {
   "cell_type": "markdown",
   "metadata": {},
   "source": [
    "Ahora crearemos otro archivo .xacro en el cual agregaremos los plugins que vayamos usar después y otras\n",
    "<br>características extras que no hayan venido en descripción y que no se refieran a la transmisión\n",
    "<br>Será como nuestro .xacro generalizado por el momento."
   ]
  },
  {
   "cell_type": "raw",
   "metadata": {},
   "source": [
    "roscd kr5_gazebo/urdf"
   ]
  },
  {
   "cell_type": "raw",
   "metadata": {},
   "source": [
    "touch gazebo.xacro"
   ]
  },
  {
   "cell_type": "markdown",
   "metadata": {},
   "source": [
    "Copiaremos y pegaremos lo siguiente"
   ]
  },
  {
   "cell_type": "code",
   "execution_count": null,
   "metadata": {},
   "outputs": [],
   "source": [
    "<?xml version=\"1.0\" ?>\n",
    "<robot name=\"kuka_kr10_gazebo\" xmlns:xacro=\"http://wiki.ros.org/xacro\">\n",
    "  <!-- KR10 -->\n",
    "  <xacro:include filename=\"$(find kr10_gazebo)/urdf/gazebo_transmission.xacro\"/>\n",
    "  \n",
    "  <xacro:kuka_kr10_robot prefix=\"\"/>\n",
    "\n",
    "  <!-- Fix robot to Gazebo world -->\n",
    "  <link name=\"world\"/>\n",
    "  <joint name=\"world-base_link-fixed\" type=\"fixed\">\n",
    "    <parent link=\"world\"/>\n",
    "    <child link=\"base_link\"/>\n",
    "    <origin xyz=\"0.0 0.0 0.0\" rpy=\"0.0 0.0 0.0\" />\n",
    "  </joint>\n",
    "\n",
    "</robot>"
   ]
  },
  {
   "cell_type": "markdown",
   "metadata": {},
   "source": [
    "Este link y junta que agregamos, le permitirá al robot ajustarse al mundo con una junta fija.\n",
    "<br>De modo que pueda permanecer de pie"
   ]
  },
  {
   "cell_type": "markdown",
   "metadata": {},
   "source": [
    "La linea:"
   ]
  },
  {
   "cell_type": "raw",
   "metadata": {},
   "source": [
    "<xacro:kuka_kr10_robot prefix=\"\"/>"
   ]
  },
  {
   "cell_type": "markdown",
   "metadata": {},
   "source": [
    "Permite declarar que nuestro prefijo estará vacío. Esto evalua la variable de prefijo antes mencionada"
   ]
  },
  {
   "cell_type": "markdown",
   "metadata": {},
   "source": [
    "Y listo, el archivo que permite describir al robot está listo para poder simularse en Gazebo"
   ]
  },
  {
   "cell_type": "markdown",
   "metadata": {},
   "source": [
    "Ahora nos dirigimos a la carpeta config y configuramos los controladores.\n",
    "<br>Creemos lo siguientes archivos"
   ]
  },
  {
   "cell_type": "raw",
   "metadata": {},
   "source": [
    "roscd kr5_gazebo/config"
   ]
  },
  {
   "cell_type": "raw",
   "metadata": {},
   "source": [
    "touch joint_state_controller.yaml"
   ]
  },
  {
   "cell_type": "raw",
   "metadata": {},
   "source": [
    "touch kr5_arm_controller.yaml"
   ]
  },
  {
   "cell_type": "markdown",
   "metadata": {},
   "source": [
    "En el archivo joint_state_controller.yaml copiamos y pegamos lo siguiente:"
   ]
  },
  {
   "cell_type": "raw",
   "metadata": {},
   "source": [
    "joint_state_controller:\n",
    "  type: joint_state_controller/JointStateController\n",
    "  publish_rate: 50  "
   ]
  },
  {
   "cell_type": "markdown",
   "metadata": {},
   "source": [
    "Esto permite asociar el controlador de las juntas para gazebo"
   ]
  },
  {
   "cell_type": "markdown",
   "metadata": {},
   "source": [
    "En el archivo kr10_arm_controller.yaml copiamos y pegamos lo siguiente:"
   ]
  },
  {
   "cell_type": "raw",
   "metadata": {},
   "source": [
    "arm_controller:\n",
    "  type: position_controllers/JointTrajectoryController\n",
    "  joints:\n",
    "    - joint_a1\n",
    "    - joint_a2\n",
    "    - joint_a3\n",
    "    - joint_a4\n",
    "    - joint_a5\n",
    "    - joint_a6\n",
    "  constraints:\n",
    "    goal_time: 0.6\n",
    "    stopped_velocity_tolerance: 0.05\n",
    "    joint_a1: {trajectory: 0.1, goal: 0.1}\n",
    "    joint_a2: {trajectory: 0.1, goal: 0.1}\n",
    "    joint_a3: {trajectory: 0.1, goal: 0.1}\n",
    "    joint_a4: {trajectory: 0.1, goal: 0.1}\n",
    "    joint_a5: {trajectory: 0.1, goal: 0.1}\n",
    "    joint_a6: {trajectory: 0.1, goal: 0.1}\n",
    "  stop_trajectory_duration: 0.5\n",
    "  state_publish_rate:  25\n",
    "  action_monitor_rate: 10"
   ]
  },
  {
   "cell_type": "markdown",
   "metadata": {},
   "source": [
    "Esto permite asignar un controlador de posición específico para el robot"
   ]
  },
  {
   "cell_type": "markdown",
   "metadata": {},
   "source": [
    "Finalmente, creemos los archivos .launch que permitiran iniciar la simulación de nuestro robot\n",
    "<br>Dirijamonos a la carpeta launch y creemos los siguiente archivos"
   ]
  },
  {
   "cell_type": "raw",
   "metadata": {},
   "source": [
    "roscd kr5_gazebo/launch"
   ]
  },
  {
   "cell_type": "raw",
   "metadata": {},
   "source": [
    "touch kr5_gazebo.launch\n",
    "touch kr5_control.launch\n",
    "touch spawn_kr5.launch\n",
    "touch load_kr5.launch"
   ]
  },
  {
   "cell_type": "markdown",
   "metadata": {},
   "source": [
    "En kr10_gazebo.launch copiamos y pegamos lo siguiente"
   ]
  },
  {
   "cell_type": "raw",
   "metadata": {},
   "source": [
    "<?xml version=\"1.0\"?>\n",
    "<launch>\n",
    "  <arg name=\"paused\" default=\"false\"/>\n",
    "  <arg name=\"gui\" default=\"true\"/>\n",
    "  <arg name=\"remap\" default=\"false\"/>\n",
    "  \n",
    "  <group if=\"$(arg remap)\">\n",
    "    <!-- remap topics to conform to ROS-I specifications -->\n",
    "    <remap from=\"/arm_controller/follow_joint_trajectory\" to=\"/joint_trajectory_action\" />\n",
    "    <remap from=\"/arm_controller/state\" to=\"/feedback_states\" />\n",
    "    <remap from=\"/arm_controller/command\" to=\"/joint_path_command\"/>\n",
    "    \n",
    "    <!-- startup simulated world -->\n",
    "    <include file=\"$(find gazebo_ros)/launch/empty_world.launch\">\n",
    "      <arg name=\"world_name\" value=\"worlds/empty.world\"/>\n",
    "      <arg name=\"gui\" value=\"$(arg gui)\"/>\n",
    "      <arg name=\"paused\" value=\"$(arg paused)\"/>\n",
    "    </include>\n",
    "  </group>\n",
    "  \n",
    "  <group unless=\"$(arg remap)\">\n",
    "    <!-- startup simulated world -->\n",
    "    <include file=\"$(find gazebo_ros)/launch/empty_world.launch\">\n",
    "      <arg name=\"world_name\" value=\"worlds/empty.world\"/>\n",
    "      <arg name=\"gui\" value=\"$(arg gui)\"/>\n",
    "      <arg name=\"paused\" value=\"$(arg paused)\"/>\n",
    "    </include>\n",
    "  </group>\n",
    "  \n",
    "  <!-- send robot URDF to ROS param server,\n",
    "       and spawn robot in Gazebo, along with necessary ROS nodes -->\n",
    "  <include file=\"$(find kr10_gazebo)/launch/spawn_kr10.launch\"/>\n",
    "  \n",
    "</launch>"
   ]
  },
  {
   "cell_type": "markdown",
   "metadata": {},
   "source": [
    "En spawn_kr10.launch copiamos y pegamos lo siguiente"
   ]
  },
  {
   "cell_type": "raw",
   "metadata": {},
   "source": [
    "<?xml version=\"1.0\"?>\n",
    "<launch>  \n",
    "  <!-- send robot urdf to ROS param server -->\n",
    "  <include file=\"$(find kr10_gazebo)/launch/load_kr10.launch\" />\n",
    "\n",
    "  <!-- push robot_description to factory and spawn robot in gazebo -->\n",
    "  <node name=\"spawn_gazebo_model\" pkg=\"gazebo_ros\" type=\"spawn_model\" \n",
    "        output=\"screen\" respawn=\"false\"\n",
    "        args=\"-urdf\n",
    "              -param robot_description\n",
    "              -model kr10\n",
    "              -x 0.0\n",
    "              -y 0.0\n",
    "              -z 0.0\n",
    "              -R 0.0\n",
    "              -P 0.0\n",
    "              -Y 0.0\" />\n",
    "\n",
    "  <!-- convert joint states to TF transforms for rviz, etc -->\n",
    "  <node name=\"robot_state_publisher\" pkg=\"robot_state_publisher\" type=\"robot_state_publisher\"/>\n",
    "\n",
    "  <!-- init and start Gazebo ros_control interface -->\n",
    "  <include file=\"$(find kr10_gazebo)/launch/kr10_control.launch\"/>\n",
    "  \n",
    "</launch>"
   ]
  },
  {
   "cell_type": "markdown",
   "metadata": {},
   "source": [
    "En kr10_control.launch copiamos y pegamos lo siguiente"
   ]
  },
  {
   "cell_type": "raw",
   "metadata": {},
   "source": [
    "<?xml version=\"1.0\"?>\n",
    "<launch>\n",
    "  <!-- load the joint state controller -->\n",
    "  <rosparam file=\"$(find kr10_gazebo)/config/joint_state_controller.yaml\" command=\"load\" />\n",
    "  <node name=\"joint_state_controller_spawner\" pkg=\"controller_manager\" type=\"spawner\" args=\"joint_state_controller\" />\n",
    "\n",
    "  <!-- load the arm controller -->\n",
    "  <rosparam file=\"$(find kr10_gazebo)/config/kr10_arm_controller.yaml\" command=\"load\" />\n",
    "  <node name=\"kuka_kr10_controller_spawner\" pkg=\"controller_manager\" type=\"spawner\" args=\"arm_controller\" />\n",
    "\n",
    "    \n",
    "</launch>"
   ]
  },
  {
   "cell_type": "markdown",
   "metadata": {},
   "source": [
    "En load_kr10.launch copiamos y pegamos lo siguiente"
   ]
  },
  {
   "cell_type": "raw",
   "metadata": {},
   "source": [
    "<?xml version=\"1.0\"?>\n",
    "<launch>\n",
    "  <param name=\"robot_description\" command=\"$(find xacro)/xacro --inorder '$(find kr10_gazebo)/urdf/gazebo.xacro'\" />\n",
    "</launch>"
   ]
  },
  {
   "cell_type": "markdown",
   "metadata": {},
   "source": [
    "Ahora ya tenemos todo listo.\n",
    "<br>Podemos proceder a probar nuestra simulación en Gazebo"
   ]
  },
  {
   "cell_type": "raw",
   "metadata": {},
   "source": [
    "roslaunch kr5_gazebo kr5_gazebo.launch"
   ]
  },
  {
   "cell_type": "markdown",
   "metadata": {},
   "source": [
    "#### 4.3 Gripper (Garra)/Herramienta y sus plugins en Gazebo"
   ]
  },
  {
   "cell_type": "markdown",
   "metadata": {},
   "source": [
    "En nuestro paquete de Gazebo, comenzamos a modificar y agregar más archivos xacro, de modo que \n",
    "<br>realicen la comunicación con un Gripper\n",
    "<br>El cual descargaremos en forma de paquetes del siguiente modo:"
   ]
  },
  {
   "cell_type": "raw",
   "metadata": {},
   "source": [
    "cd ~/catkin_ws/src"
   ]
  },
  {
   "cell_type": "markdown",
   "metadata": {},
   "source": [
    "1. El paquete del gripper:"
   ]
  },
  {
   "cell_type": "raw",
   "metadata": {},
   "source": [
    "git clone https://github.com/fryumbla/Robotiq-grippers.git"
   ]
  },
  {
   "cell_type": "markdown",
   "metadata": {},
   "source": [
    "Eliminamos lo correspondiente a control y gripper_communication"
   ]
  },
  {
   "cell_type": "markdown",
   "metadata": {},
   "source": [
    "En este paquete tienes que poner las inercias en cada eslabón antes de ejecutar Gazebo (Archivos robotiq_2F_85.xacro y robotiq_arg2f_85_model_macro.xacro)."
   ]
  },
  {
   "cell_type": "code",
   "execution_count": null,
   "metadata": {},
   "outputs": [],
   "source": [
    "     <inertial>\n",
    "         <mass value=\"0.1\" />\n",
    "         <origin xyz=\"0 0 0\" rpy=\"0 0 0\" />\n",
    "         <inertia ixx=\"0.03\" iyy=\"0.03\" izz=\"0.03\" ixy=\"0.0\" ixz=\"0.0\" iyz=\"0.0\" />\n",
    "     </inertial>"
   ]
  },
  {
   "cell_type": "markdown",
   "metadata": {},
   "source": [
    "Además, debe agregar una escala en la línea 20 en robotiq_2F_85.xacro ya que la colisión afectaría a Gazebo"
   ]
  },
  {
   "cell_type": "raw",
   "metadata": {},
   "source": [
    "<mesh filename=\"package://robotiq_2f_85_description/meshes/visual/robotiq_gripper_coupling.stl\" scale=\"0.001 0.001 0.001\" />"
   ]
  },
  {
   "cell_type": "markdown",
   "metadata": {},
   "source": [
    "Y, necesitas cambiar la línea 14 en robotiq_arg2f.xacro"
   ]
  },
  {
   "cell_type": "raw",
   "metadata": {},
   "source": [
    "<mesh filename=\"package://robotiq_2f_85_description/meshes/collision/robotiq_arg2f_base_link.stl\" />"
   ]
  },
  {
   "cell_type": "markdown",
   "metadata": {},
   "source": [
    "Por último debes agregar el controlador de posición en la transmisión del gripper, archivo robotiq_arg2f_transmission.xacro"
   ]
  },
  {
   "cell_type": "raw",
   "metadata": {},
   "source": [
    "<hardwareInterface>hardware_interface/PositionJointInterface</hardwareInterface>"
   ]
  },
  {
   "cell_type": "markdown",
   "metadata": {},
   "source": [
    "2. La compilación de plugins de Gazebo"
   ]
  },
  {
   "cell_type": "raw",
   "metadata": {},
   "source": [
    "git clone https://github.com/javierpagalo/Gazebo_utils.git"
   ]
  },
  {
   "cell_type": "raw",
   "metadata": {},
   "source": [
    "sudo apt-get install ros-noetic-object-recognition-msgs"
   ]
  },
  {
   "cell_type": "raw",
   "metadata": {},
   "source": [
    "git clone https://github.com/roboticsgroup/roboticsgroup_upatras_gazebo_plugins.git"
   ]
  },
  {
   "cell_type": "markdown",
   "metadata": {},
   "source": [
    "Una vez clonado estos paquetes, compilamos el espacio de trabajo"
   ]
  },
  {
   "cell_type": "raw",
   "metadata": {},
   "source": [
    "cd ~/catkin_ws"
   ]
  },
  {
   "cell_type": "raw",
   "metadata": {},
   "source": [
    "rosdep install --from-paths src --ignore-src -r -y"
   ]
  },
  {
   "cell_type": "raw",
   "metadata": {},
   "source": [
    "catkin_make"
   ]
  },
  {
   "cell_type": "markdown",
   "metadata": {},
   "source": [
    "Ahora ya podemos realizar modificaciones para adjuntarle una garra a nuestro robot"
   ]
  },
  {
   "cell_type": "markdown",
   "metadata": {},
   "source": [
    "en la carpeta urdf, creamos los siguientes archivos"
   ]
  },
  {
   "cell_type": "raw",
   "metadata": {},
   "source": [
    "roscd kr5_gazebo/urdf"
   ]
  },
  {
   "cell_type": "raw",
   "metadata": {},
   "source": [
    "touch gazebo_2f.xacro"
   ]
  },
  {
   "cell_type": "raw",
   "metadata": {},
   "source": [
    "touch transmission_2f.xacro"
   ]
  },
  {
   "cell_type": "markdown",
   "metadata": {},
   "source": [
    "En el archivo gazebo_2f.xacro, copiamos y pegamos lo siguiente:"
   ]
  },
  {
   "cell_type": "code",
   "execution_count": null,
   "metadata": {},
   "outputs": [],
   "source": [
    "<?xml version=\"1.0\" ?>\n",
    "<robot name=\"kuka_kr10_gripper\" xmlns:xacro=\"http://ros.org/wiki/xacro\">\n",
    "    \n",
    "  <xacro:include filename=\"$(find kr10_gazebo)/urdf/gazebo.xacro\"/>\n",
    "    \n",
    "  <xacro:include filename=\"$(find robotiq_2f_85_description)/urdf/robotiq_2F_85.xacro\"/>\n",
    "\n",
    "  <xacro:property name=\"PI\" value=\"3.1415926535897931\"/>\n",
    "\n",
    "  <joint name=\"kuka_joint_gripper_support\" type=\"fixed\">\n",
    "    <parent link=\"tool0\"/>\n",
    "    <child link=\"coupling_link\"/>\n",
    "    <origin rpy=\"0 0 0\" xyz=\"0 0 -0.003\"/>\n",
    "  </joint>\n",
    "  \n",
    "  <xacro:include filename=\"$(find kr10_gazebo)/urdf/transmission_2f.xacro\"/>\n",
    "  \n",
    "</robot>"
   ]
  },
  {
   "cell_type": "markdown",
   "metadata": {},
   "source": [
    "En el archivo transmission_2f.xacro, copiamos y pegamos lo siguiente:"
   ]
  },
  {
   "cell_type": "code",
   "execution_count": null,
   "metadata": {},
   "outputs": [],
   "source": [
    "<?xml version=\"1.0\" ?>\n",
    "<robot name=\"gripper\" xmlns:xacro=\"http://wiki.ros.org/xacro\">\n",
    "  <!-- KR10 -->\n",
    "  \n",
    "  <transmission name=\"trans_left_inner_knuckle_joint\">\n",
    "        <type>transmission_interface/SimpleTransmission</type>\n",
    "        <joint name=\"left_inner_knuckle_joint\">\n",
    "            <hardwareInterface>hardware_interface/PositionJointInterface</hardwareInterface>\n",
    "        </joint>\n",
    "        <actuator name=\"left_inner_knuckle_joint_motor\">\n",
    "            <hardwareInterface>hardware_interface/PositionJointInterface</hardwareInterface>\n",
    "            <mechanicalReduction>1</mechanicalReduction>\n",
    "        </actuator>\n",
    "    </transmission>\n",
    "    <transmission name=\"trans_left_inner_finger_joint\">\n",
    "        <type>transmission_interface/SimpleTransmission</type>\n",
    "        <joint name=\"left_inner_finger_joint\">\n",
    "            <hardwareInterface>hardware_interface/PositionJointInterface</hardwareInterface>\n",
    "        </joint>\n",
    "        <actuator name=\"left_inner_finger_joint_motor\">\n",
    "            <hardwareInterface>hardware_interface/PositionJointInterface</hardwareInterface>\n",
    "            <mechanicalReduction>1</mechanicalReduction>\n",
    "        </actuator>\n",
    "    </transmission>\n",
    "    <transmission name=\"trans_right_outer_knuckle_joint\">\n",
    "        <type>transmission_interface/SimpleTransmission</type>\n",
    "        <joint name=\"right_outer_knuckle_joint\">\n",
    "            <hardwareInterface>hardware_interface/PositionJointInterface</hardwareInterface>\n",
    "        </joint>\n",
    "        <actuator name=\"right_outer_knuckle_joint_motor\">\n",
    "            <hardwareInterface>hardware_interface/PositionJointInterface</hardwareInterface>\n",
    "            <mechanicalReduction>1</mechanicalReduction>\n",
    "        </actuator>\n",
    "    </transmission>\n",
    "    <transmission name=\"trans_right_inner_knuckle_joint\">\n",
    "        <type>transmission_interface/SimpleTransmission</type>\n",
    "        <joint name=\"right_inner_knuckle_joint\">\n",
    "            <hardwareInterface>hardware_interface/PositionJointInterface</hardwareInterface>\n",
    "        </joint>\n",
    "        <actuator name=\"right_inner_knuckle_joint_motor\">\n",
    "            <hardwareInterface>hardware_interface/PositionJointInterface</hardwareInterface>\n",
    "            <mechanicalReduction>1</mechanicalReduction>\n",
    "        </actuator>\n",
    "    </transmission>\n",
    "    <transmission name=\"trans_right_inner_finger_joint\">\n",
    "        <type>transmission_interface/SimpleTransmission</type>\n",
    "        <joint name=\"right_inner_finger_joint\">\n",
    "            <hardwareInterface>hardware_interface/PositionJointInterface</hardwareInterface>\n",
    "        </joint>\n",
    "        <actuator name=\"right_inner_finger_joint_motor\">\n",
    "            <hardwareInterface>hardware_interface/PositionJointInterface</hardwareInterface>\n",
    "            <mechanicalReduction>1</mechanicalReduction>\n",
    "        </actuator>\n",
    "    </transmission>\n",
    "    <gazebo>\n",
    "                <!-- loading plugin: mimic joints works in gazebo now -->\n",
    "            <plugin filename=\"libroboticsgroup_upatras_gazebo_mimic_joint_plugin.so\" name=\"mimic_robotiq_85_1\">\n",
    "                <joint>finger_joint</joint>\n",
    "                <mimicJoint>right_outer_knuckle_joint</mimicJoint>\n",
    "                <multiplier>1.0</multiplier>\n",
    "                <!--<offset>0.0</offset-->\n",
    "            </plugin>\n",
    "            <plugin filename=\"libroboticsgroup_upatras_gazebo_mimic_joint_plugin.so\" name=\"mimic_robotiq_85_5\">\n",
    "                <joint>finger_joint</joint>\n",
    "                <mimicJoint>left_inner_finger_joint</mimicJoint>\n",
    "                <multiplier>-1.0</multiplier>\n",
    "                <!--offset>0.0</offset-->\n",
    "            </plugin>\n",
    "            <plugin filename=\"libroboticsgroup_upatras_gazebo_mimic_joint_plugin.so\" name=\"mimic_robotiq_85_4\">\n",
    "                <joint>finger_joint</joint>\n",
    "                <mimicJoint>right_inner_finger_joint</mimicJoint>\n",
    "                <multiplier>-1.0</multiplier>\n",
    "                <!--offset>0.0</offset-->\n",
    "            </plugin>\n",
    "            <plugin filename=\"libroboticsgroup_upatras_gazebo_mimic_joint_plugin.so\" name=\"mimic_robotiq_85_2\">\n",
    "                <joint>finger_joint</joint>\n",
    "                <mimicJoint>left_inner_knuckle_joint</mimicJoint>\n",
    "                <multiplier>1.0</multiplier>\n",
    "                <!--<offset>0.0</offset-->\n",
    "            </plugin>\n",
    "            <plugin filename=\"libroboticsgroup_upatras_gazebo_mimic_joint_plugin.so\" name=\"mimic_robotiq_85_3\">\n",
    "                <joint>finger_joint</joint>\n",
    "                <mimicJoint>right_inner_knuckle_joint</mimicJoint>\n",
    "                <multiplier>1.0</multiplier>\n",
    "                <!--<offset>0.0</offset-->\n",
    "            </plugin>\n",
    "            \n",
    "            \n",
    "        </gazebo>\n",
    "        <!-- Plugin -->\n",
    "  <gazebo>\n",
    "    <plugin filename=\"libgazebo_grasp_fix.so\" name=\"gazebo_grasp_fix\">\n",
    "      <arm>\n",
    "        <arm_name>kuka_kr10</arm_name>\n",
    "        <palm_link>link_6</palm_link>\n",
    "        <gripper_link>left_outer_knuckle</gripper_link>\n",
    "        <gripper_link>right_outer_knuckle</gripper_link>\n",
    "        <gripper_link>left_inner_finger</gripper_link>\n",
    "        <gripper_link>right_inner_finger</gripper_link>\n",
    "      </arm>\n",
    "      <forces_angle_tolerance>90</forces_angle_tolerance>\n",
    "      <update_rate>4</update_rate>\n",
    "      <grip_count_threshold>4</grip_count_threshold>\n",
    "      <max_grip_count>8</max_grip_count>\n",
    "      <release_tolerance>0.005</release_tolerance>\n",
    "      <disable_collisions_on_attach>false</disable_collisions_on_attach>\n",
    "      <contact_topic>__default_topic__</contact_topic>\n",
    "    </plugin>\n",
    "  </gazebo>\n",
    "  \n",
    "        \n",
    "  \n",
    "</robot>"
   ]
  },
  {
   "cell_type": "markdown",
   "metadata": {},
   "source": [
    "Explicación en el video"
   ]
  },
  {
   "cell_type": "markdown",
   "metadata": {},
   "source": [
    "Ahora, ya esta configurado el archivo xacro.\n",
    "<br>Para verificar que las relaciones de archivos xacro de nuestro robot esté construido correctamente.\n",
    "<br>Nos ubicamos en la carpeta de gazebo/urdf y corremos lo siguiente:"
   ]
  },
  {
   "cell_type": "raw",
   "metadata": {},
   "source": [
    "roscd kr5_gazebo/urdf"
   ]
  },
  {
   "cell_type": "raw",
   "metadata": {},
   "source": [
    "rosrun xacro xacro gazebo_2f.xacro --inorder > gazebo_2f.urdf"
   ]
  },
  {
   "cell_type": "markdown",
   "metadata": {},
   "source": [
    "Ahora creamos el controlador del gripper"
   ]
  },
  {
   "cell_type": "markdown",
   "metadata": {},
   "source": [
    "En la carpeta config, creamos el siguiente archivo"
   ]
  },
  {
   "cell_type": "raw",
   "metadata": {},
   "source": [
    "roscd kr5_gazebo/config"
   ]
  },
  {
   "cell_type": "raw",
   "metadata": {},
   "source": [
    "touch gripper_controller_robotiq.yaml"
   ]
  },
  {
   "cell_type": "markdown",
   "metadata": {},
   "source": [
    "Y agregamos lo siguiente"
   ]
  },
  {
   "cell_type": "raw",
   "metadata": {},
   "source": [
    "gripper:\n",
    "  type: \"position_controllers/GripperActionController\"\n",
    "  joint: finger_joint"
   ]
  },
  {
   "cell_type": "markdown",
   "metadata": {},
   "source": [
    "Finalmente para iniciar una simulación con nuestro robot, realizamos los siguientes cambios"
   ]
  },
  {
   "cell_type": "markdown",
   "metadata": {},
   "source": [
    "En el archivo kr10_control.launch agregamos lo siguiente"
   ]
  },
  {
   "cell_type": "raw",
   "metadata": {},
   "source": [
    "  <!-- load the gripper controller -->\n",
    "  <rosparam file=\"$(find kr5_gazebo)/config/gripper_controller_robotiq.yaml\"/>\n",
    "  <node name=\"Gripper_Spawner\" pkg=\"controller_manager\" type=\"spawner\" args=\"gripper\"/>"
   ]
  },
  {
   "cell_type": "markdown",
   "metadata": {},
   "source": [
    "En el archivo load_kr10.launch cambiamos el archivo .xacro dirigido"
   ]
  },
  {
   "cell_type": "raw",
   "metadata": {},
   "source": [
    "<param name=\"robot_description\" command=\"$(find xacro)/xacro '$(find kr5_gazebo)/urdf/gazebo_2f.xacro'\" />"
   ]
  },
  {
   "cell_type": "markdown",
   "metadata": {},
   "source": [
    "Ahora, finalmente podemos ejecutar nuestra simulación en gazebo"
   ]
  },
  {
   "cell_type": "raw",
   "metadata": {},
   "source": [
    "roslaunch kr5_gazebo kr5_gazebo.launch"
   ]
  },
  {
   "cell_type": "markdown",
   "metadata": {},
   "source": [
    "Ahora que ya tenemos una simulación en Gazebo lista, podemos proceder a probar los controladores con algún archivo\n",
    "<br>de python o publicando directamente en el topic"
   ]
  },
  {
   "cell_type": "markdown",
   "metadata": {},
   "source": [
    "Nos dirigimos a nuestra carpeta src del paquete kr10_master y creamos el siguiente archivo"
   ]
  },
  {
   "cell_type": "raw",
   "metadata": {},
   "source": [
    "roscd kr5_master/src"
   ]
  },
  {
   "cell_type": "raw",
   "metadata": {},
   "source": [
    "touch jtc_node.py"
   ]
  },
  {
   "cell_type": "raw",
   "metadata": {},
   "source": [
    "chmod +x jtc_node.py"
   ]
  },
  {
   "cell_type": "markdown",
   "metadata": {},
   "source": [
    "Y dentro de larchivo, copiamos y pegamos lo siguiente:"
   ]
  },
  {
   "cell_type": "code",
   "execution_count": null,
   "metadata": {},
   "outputs": [],
   "source": [
    "#!/usr/bin/env python3\n",
    "\n",
    "import rospy\n",
    "\n",
    "from trajectory_msgs.msg import JointTrajectory, JointTrajectoryPoint\n",
    "\n",
    "import sys\n",
    "\n",
    "def perform_trajectory():\n",
    "\n",
    "    rospy.init_node('kuka_trajectory_publisher') #Node definition\n",
    "\n",
    "    contoller_name='/arm_controller/command'\n",
    "\n",
    "    trajectory_publisher = rospy.Publisher(contoller_name,JointTrajectory, queue_size=10) #Publisher Definition\n",
    "\n",
    "    argv = sys.argv[1:] #It will read the webshell \n",
    "\n",
    "    kuka_joints = ['joint_a1', 'joint_a2', 'joint_a3', 'joint_a4', 'joint_a5', 'joint_a6'] #Name of joints\n",
    "\n",
    "    goal_positions = [ float(argv[0]) , float(argv[1]) , float(argv[2]) ,float(argv[3] ) ,\n",
    "\n",
    "                        float(argv[4]) , float(argv[5])  ] #Positions in radians where to move\n",
    "\n",
    " \n",
    "\n",
    "    rospy.loginfo(\"Goal Position set lets go ! \")\n",
    "\n",
    "    rospy.sleep(1)\n",
    "\n",
    "    trajectory_msg = JointTrajectory() #JointTrajectory object declaration\n",
    "\n",
    "    trajectory_msg.joint_names = kuka_joints\n",
    "\n",
    "    trajectory_msg.points.append(JointTrajectoryPoint())\n",
    "\n",
    "    trajectory_msg.points[0].positions = goal_positions\n",
    "\n",
    "    trajectory_msg.points[0].velocities = [0.0 for i in kuka_joints]\n",
    "\n",
    "    trajectory_msg.points[0].accelerations = [0.0 for i in kuka_joints]\n",
    "\n",
    "    trajectory_msg.points[0].time_from_start = rospy.Duration(3)\n",
    "\n",
    "    rospy.sleep(1)\n",
    "\n",
    "    trajectory_publisher.publish(trajectory_msg)\n",
    "\n",
    "\n",
    "if __name__ == '__main__':\n",
    "\n",
    "    perform_trajectory()"
   ]
  },
  {
   "cell_type": "markdown",
   "metadata": {},
   "source": [
    "Inicie la simulación y en otro websheel ejecute esto:"
   ]
  },
  {
   "cell_type": "raw",
   "metadata": {},
   "source": [
    "rosrun kr5_master jtc_node.py 0 -0.5 0.5 0 1.5 0"
   ]
  },
  {
   "cell_type": "raw",
   "metadata": {},
   "source": [
    "pip3 install pyyaml"
   ]
  },
  {
   "cell_type": "raw",
   "metadata": {},
   "source": [
    "pip3 install rospkg"
   ]
  },
  {
   "cell_type": "markdown",
   "metadata": {},
   "source": [
    "Para probar el gripper podemos repasar el método de publicación por consola"
   ]
  },
  {
   "cell_type": "raw",
   "metadata": {},
   "source": [
    "rostopic list "
   ]
  },
  {
   "cell_type": "raw",
   "metadata": {},
   "source": [
    "rostopic pub /gripper/gripper_cmd/goal [Tab][Tab]"
   ]
  },
  {
   "cell_type": "markdown",
   "metadata": {},
   "source": [
    "Y editamos el valor de posición a 0.6"
   ]
  },
  {
   "cell_type": "markdown",
   "metadata": {},
   "source": [
    "#### 4.4 Cámara fija y sus plugins en Gazebo"
   ]
  },
  {
   "cell_type": "markdown",
   "metadata": {},
   "source": [
    "Posterior a ello, se puede comenzar a agregar más funcionalidades al robot.\n",
    "<br>Una de las herramientas que pueden ser de mucha utilidad es una cámara.\n",
    "<br>Procedemos a agregarle una cámara en el archivo gazebo.xacro"
   ]
  },
  {
   "cell_type": "markdown",
   "metadata": {},
   "source": [
    "Copiamos y pegamos el siguiente código, el cual permitirá crear un eslabón para adjuntar la cámara."
   ]
  },
  {
   "cell_type": "code",
   "execution_count": null,
   "metadata": {},
   "outputs": [],
   "source": [
    "<!-- camera plugin -->\n",
    "  <link name=\"camera\">\n",
    "    <collision>\n",
    "      <origin rpy=\"0 0 0\" xyz=\"0 0 0\"/>\n",
    "      <geometry>\n",
    "        <box size=\"0.1 0.7 0.7\"/>\n",
    "      </geometry>\n",
    "    </collision>\n",
    "    <visual>\n",
    "      <origin rpy=\"0 0 0\" xyz=\"0 0 0\"/>\n",
    "      <geometry>\n",
    "        <box size=\"0.1 0.7 0.7\"/>\n",
    "      </geometry>\n",
    "      <material name=\"grey\"/>\n",
    "    </visual>\n",
    "    <inertial>\n",
    "      <mass value=\"0.1\"/>\n",
    "      <origin rpy=\"0 0 0\" xyz=\"0 0 0\"/>\n",
    "      <box_inertia m=\"0.1\" x=\"0.1\" y=\"0.7\" z=\"0.7\"/>\n",
    "      <inertia ixx=\"1e-6\" ixy=\"0\" ixz=\"0\" iyy=\"1e-6\" iyz=\"0\" izz=\"1e-6\"/>\n",
    "    </inertial>\n",
    "  </link>"
   ]
  },
  {
   "cell_type": "markdown",
   "metadata": {},
   "source": [
    "Ahora lo siguiente permitirá asignarle una junta fija a la cámara"
   ]
  },
  {
   "cell_type": "code",
   "execution_count": null,
   "metadata": {},
   "outputs": [],
   "source": [
    "<joint name=\"camera_optical_joint\" type=\"fixed\">\n",
    "    <origin rpy=\"-1.5708 0 -1.5708\" xyz=\"0 0 0\"/>\n",
    "    <parent link=\"camera\"/>\n",
    "    <child link=\"camera_frame_optical\"/>\n",
    "  </joint>\n",
    "  <link name=\"camera_frame_optical\"/>\n",
    "  <joint name=\"camera_joint\" type=\"fixed\">\n",
    "    <axis xyz=\"0 0 0\"/>\n",
    "    <origin rpy=\"0 1.5708 0\" xyz=\"0.5 0 2.0\"/>\n",
    "    <parent link=\"base_link\"/>\n",
    "    <child link=\"camera\"/>\n",
    "  </joint>"
   ]
  },
  {
   "cell_type": "markdown",
   "metadata": {},
   "source": [
    "Finalmente, hay que señalar el plugin de Gazebo que utiliza esta cámara"
   ]
  },
  {
   "cell_type": "code",
   "execution_count": null,
   "metadata": {},
   "outputs": [],
   "source": [
    "<!-- depth camera -->\n",
    "  <gazebo reference=\"camera\">\n",
    "    <sensor name=\"camera1\" type=\"depth\">\n",
    "      <update_rate>20</update_rate>\n",
    "      <camera>\n",
    "        <horizontal_fov>1.2</horizontal_fov>\n",
    "        <image>\n",
    "          <width>640</width>\n",
    "          <!--640-->\n",
    "          <height>480</height>\n",
    "          <!--480-->\n",
    "          <format>R8G8B8</format>\n",
    "        </image>\n",
    "        <clip>\n",
    "          <near>0.05</near>\n",
    "          <far>30</far>\n",
    "        </clip>\n",
    "      </camera>\n",
    "      <plugin filename=\"libgazebo_ros_openni_kinect.so\" name=\"camera_controller\">\n",
    "        <baseline>0.2</baseline>\n",
    "        <alwaysOn>false</alwaysOn>\n",
    "        <updateRate>1.0</updateRate>\n",
    "        <cameraName>camera1</cameraName>\n",
    "        <imageTopicName>/camera1/color/image_raw</imageTopicName>\n",
    "        <cameraInfoTopicName>/camera1/color/camera_info</cameraInfoTopicName>\n",
    "        <depthImageTopicName>/camera1/depth/image_raw</depthImageTopicName>\n",
    "        <depthImageInfoTopicName>/camera1/depth/camera_info</depthImageInfoTopicName>\n",
    "        <pointCloudTopicName>/camera1/depth/points</pointCloudTopicName>\n",
    "        <frameName>camera_frame_optical</frameName>\n",
    "        <pointCloudCutoff>0.5</pointCloudCutoff>\n",
    "        <pointCloudCutoffMax>3.0</pointCloudCutoffMax>\n",
    "        <distortionK1>0.00000001</distortionK1>\n",
    "        <distortionK2>0.00000001</distortionK2>\n",
    "        <distortionK3>0.00000001</distortionK3>\n",
    "        <distortionT1>0.00000001</distortionT1>\n",
    "        <distortionT2>0.00000001</distortionT2>\n",
    "        <CxPrime>0</CxPrime>\n",
    "        <Cx>0</Cx>\n",
    "        <Cy>0</Cy>\n",
    "        <focalLength>0</focalLength>\n",
    "        <hackBaseline>0</hackBaseline>\n",
    "      </plugin>\n",
    "    </sensor>\n",
    "  </gazebo>"
   ]
  },
  {
   "cell_type": "markdown",
   "metadata": {},
   "source": [
    "Volvamos a correr la simulación"
   ]
  },
  {
   "cell_type": "raw",
   "metadata": {},
   "source": [
    "roslaunch kr10_gazebo kr10_gazebo.launch"
   ]
  },
  {
   "cell_type": "markdown",
   "metadata": {},
   "source": [
    "Como se pueda observar , la cámara está publicando en algunos tópicos\n",
    "<br>Al ser una cámara de profundidad, este permite no solo obtener una imagen sino que también se\n",
    "<br>puede observar la distancia a la cual se encuentra un objeto.\n",
    "<br>Esto de forma más precisa a través de una nube de puntos en el espacio"
   ]
  },
  {
   "cell_type": "markdown",
   "metadata": {},
   "source": [
    "Para observar lo que está enviando la cámara al topic\n",
    "<br>Usaremos el visualizador de topics por excelencia, RVIZ."
   ]
  },
  {
   "cell_type": "raw",
   "metadata": {},
   "source": [
    "rosrun rviz rviz"
   ]
  },
  {
   "cell_type": "markdown",
   "metadata": {},
   "source": [
    "Ahora para poder tener una herramienta de MotionPlanning más automática, podemos ejecutar Moveit\n",
    "y generar el paquete correspondiente usando el asistente de Moveit"
   ]
  },
  {
   "cell_type": "markdown",
   "metadata": {},
   "source": [
    "#### 4.5 XACRO, XACRO y más XACRO ... (Adelantar el Moveit en otra VM)"
   ]
  },
  {
   "cell_type": "markdown",
   "metadata": {},
   "source": [
    "Previo a ello, es posible darle orden a nuestros archivos siguiendo explorando el formato .xacro\n",
    "<br>Si bien es cierto, tener que modificar el archivo completamente cada vez que agregamos se vuelve algo ineficiente\n",
    "<br>Si llegamos a agregar varios elementos en escena\n",
    "<br>Ocurrió cuando agregamos el gripper, y cuando agregamos la cámara. Y seguirá ocurriendo mientras le demos mayor\n",
    "<br>personificación a nuestro robot y entorno.\n",
    "<br>Por ello, una forma de modularizar nuestro programa es agregando condicionales a nuestro .xacro de modo que \n",
    "<br>cada que agreguemos algo nuevo, se necesite una variable para hacer uso de lo que requeramos."
   ]
  },
  {
   "cell_type": "markdown",
   "metadata": {},
   "source": [
    "Crearemos un archivo principal, lo llamaremos kr10_main.xacro"
   ]
  },
  {
   "cell_type": "raw",
   "metadata": {},
   "source": [
    "roscd kr10_gazebo/urdf"
   ]
  },
  {
   "cell_type": "raw",
   "metadata": {},
   "source": [
    "touch kr10_main.xacro"
   ]
  },
  {
   "cell_type": "markdown",
   "metadata": {},
   "source": [
    "Agregamos lo siguiente, el cual definirán las variables de los objetos que vayamos a agregar"
   ]
  },
  {
   "cell_type": "code",
   "execution_count": null,
   "metadata": {},
   "outputs": [],
   "source": [
    "<?xml version=\"1.0\" ?>\n",
    "<robot name=\"kr10_main\" xmlns:xacro=\"http://ros.org/wiki/xacro\">\n",
    "  <xacro:arg name=\"camera\" default=\"false\"/>\n",
    "  <xacro:arg name=\"gripper_2f\" default=\"false\"/>\n",
    "</robot>"
   ]
  },
  {
   "cell_type": "markdown",
   "metadata": {},
   "source": [
    "Colocaremos la cámara en otro archivo .xacro y quitaremos la relación de Gazebo con el gazebo_2f.\n",
    "<br>Ahora se controlará desde aquí"
   ]
  },
  {
   "cell_type": "raw",
   "metadata": {},
   "source": [
    "touch camera.xacro"
   ]
  },
  {
   "cell_type": "markdown",
   "metadata": {},
   "source": [
    "Y ahora pegaremos esto en el archivo kr10_main.xacro"
   ]
  },
  {
   "cell_type": "code",
   "execution_count": null,
   "metadata": {},
   "outputs": [],
   "source": [
    "  <xacro:include filename=\"$(find kr10_gazebo)/urdf/gazebo.xacro\"/>\n",
    "\n",
    "  <!-- camera -->\n",
    "  <xacro:if value=\"$(arg camera)\">\n",
    "    <xacro:include filename=\"$(find kr10_gazebo)/urdf/camera.xacro\"/>\n",
    "  </xacro:if>\n",
    "\n",
    "  <!-- gripper -->\n",
    "  <xacro:if value=\"$(arg gripper_2f)\">\n",
    "    <xacro:include filename=\"$(find kr10_gazebo)/urdf/gazebo_2f.xacro\"/>\n",
    "  </xacro:if>"
   ]
  },
  {
   "cell_type": "markdown",
   "metadata": {},
   "source": [
    "Aquellas condicionales determinan si usar o nó el archivo .xacro asociado\n",
    "<br>Con esto podremos agregar más archivos .xacro de modo que no debamos \n",
    "<br>realizar demasiados cambios a cada instante en todos nuestros archivos."
   ]
  },
  {
   "cell_type": "markdown",
   "metadata": {},
   "source": [
    "Para verificar que nuestro archivo kr10_main.xacro está bien, podemos verificar el URDF."
   ]
  },
  {
   "cell_type": "raw",
   "metadata": {},
   "source": [
    "rosrun xacro xacro kr10_main.xacro --inorder > kr10_main.urdf gripper_2f:=true camera:=true"
   ]
  },
  {
   "cell_type": "markdown",
   "metadata": {},
   "source": [
    "Finalmente, en el archivo de lanzamiento asociado, también se debe informar de estas variables para que\n",
    "<br>pueda reconocer que archivo o robot colocar en el simulador."
   ]
  },
  {
   "cell_type": "markdown",
   "metadata": {},
   "source": [
    "En load_kr10.launch"
   ]
  },
  {
   "cell_type": "code",
   "execution_count": null,
   "metadata": {},
   "outputs": [],
   "source": [
    "<arg name=\"gripper_2f\" default=\"false\" />\n",
    "<arg name=\"camera\" default=\"false\" />"
   ]
  },
  {
   "cell_type": "code",
   "execution_count": null,
   "metadata": {},
   "outputs": [],
   "source": [
    "<param name=\"robot_description\" command=\"$(find xacro)/xacro '$(find kr10_gazebo)/urdf/kr10_main.xacro' \n",
    "  camera:=$(arg camera) gripper_2f:=$(arg gripper_2f)\"/>"
   ]
  },
  {
   "cell_type": "markdown",
   "metadata": {},
   "source": [
    "En spawn_kr10.launch"
   ]
  },
  {
   "cell_type": "code",
   "execution_count": null,
   "metadata": {},
   "outputs": [],
   "source": [
    "<arg name=\"gripper_2f\" default=\"false\" />\n",
    "<arg name=\"camera\" default=\"false\" />"
   ]
  },
  {
   "cell_type": "code",
   "execution_count": null,
   "metadata": {},
   "outputs": [],
   "source": [
    "<!-- send robot urdf to ROS param server -->\n",
    "   <include file=\"$(find kr10_gazebo)/launch/load_kr10.launch\" > \n",
    "    <arg name=\"camera\" value=\"$(arg camera)\"/>\n",
    "    <arg name=\"gripper_2f\" value=\"$(arg gripper_2f)\"/>\n",
    "   </include>"
   ]
  },
  {
   "cell_type": "code",
   "execution_count": null,
   "metadata": {},
   "outputs": [],
   "source": [
    "<!-- init and start Gazebo ros_control interface -->\n",
    "  <include file=\"$(find kr10_gazebo)/launch/kr10_control.launch\">\n",
    "    <arg name=\"gripper_2f\" value=\"$(arg gripper_2f)\"/>\n",
    "    </include>"
   ]
  },
  {
   "cell_type": "markdown",
   "metadata": {},
   "source": [
    "En kr10_gazebo.launch"
   ]
  },
  {
   "cell_type": "code",
   "execution_count": null,
   "metadata": {},
   "outputs": [],
   "source": [
    "<arg name=\"gripper_2f\" default=\"false\" />\n",
    "<arg name=\"camera\" default=\"false\" />"
   ]
  },
  {
   "cell_type": "code",
   "execution_count": null,
   "metadata": {},
   "outputs": [],
   "source": [
    "<include file=\"$(find kr10_gazebo)/launch/spawn_kr10.launch\">\n",
    "    <arg name=\"camera\" value=\"$(arg camera)\"/>\n",
    "    <arg name=\"gripper_2f\" value=\"$(arg gripper_2f)\"/>\n",
    "   </include>"
   ]
  },
  {
   "cell_type": "markdown",
   "metadata": {},
   "source": [
    "En kr10_control.launch"
   ]
  },
  {
   "cell_type": "code",
   "execution_count": null,
   "metadata": {},
   "outputs": [],
   "source": [
    "<arg name=\"gripper_2f\" default=\"false\"/>"
   ]
  },
  {
   "cell_type": "code",
   "execution_count": null,
   "metadata": {},
   "outputs": [],
   "source": [
    "<group if=\"$(arg gripper_2f)\">\n",
    "\n",
    "  <!-- load the gripper controller -->\n",
    "  <rosparam file=\"$(find kr10_gazebo)/config/gripper_controller_robotiq.yaml\"/>\n",
    "  <node name=\"Gripper_Spawner\" pkg=\"controller_manager\" type=\"spawner\" args=\"gripper\"/>\n",
    "\n",
    "  </group>"
   ]
  },
  {
   "cell_type": "markdown",
   "metadata": {},
   "source": [
    "Ahora si ejecutamos nuestra simulación"
   ]
  },
  {
   "cell_type": "raw",
   "metadata": {},
   "source": [
    "roslaunch kr10_gazebo kr10_gazebo.launch"
   ]
  },
  {
   "cell_type": "raw",
   "metadata": {},
   "source": [
    "roslaunch kr10_gazebo kr10_gazebo.launch camera:=true"
   ]
  },
  {
   "cell_type": "raw",
   "metadata": {},
   "source": [
    "roslaunch kr10_gazebo kr10_gazebo.launch gripper_2f:=true"
   ]
  },
  {
   "cell_type": "raw",
   "metadata": {},
   "source": [
    "roslaunch kr10_gazebo kr10_gazebo.launch camera:=true gripper_2f:=true"
   ]
  },
  {
   "cell_type": "raw",
   "metadata": {},
   "source": [
    "roslaunch kr10_gazebo kr10_gazebo.launch camera:=false gripper_2f:=false"
   ]
  },
  {
   "cell_type": "markdown",
   "metadata": {},
   "source": [
    "#### 4.6 Cámara móvil y sus plugins en Gazebo"
   ]
  },
  {
   "cell_type": "markdown",
   "metadata": {},
   "source": [
    "Para agregar otros elementos como una cámara móvil de un CAD importado\n",
    "<br>Colocamos el CAD en la carpeta meshes\n",
    "<br>Y creamos un archivo .xacro para asociar la cámara móvil al último eslabon del brazo"
   ]
  },
  {
   "cell_type": "raw",
   "metadata": {},
   "source": [
    "touch camera_arm.xacro"
   ]
  },
  {
   "cell_type": "code",
   "execution_count": null,
   "metadata": {},
   "outputs": [],
   "source": [
    "https://github.com/fryumbla/IRB120-ABB"
   ]
  },
  {
   "cell_type": "code",
   "execution_count": null,
   "metadata": {},
   "outputs": [],
   "source": [
    "<?xml version=\"1.0\" ?>\n",
    "<robot name=\"camera_arm\" xmlns:xacro=\"http://ros.org/wiki/xacro\">\n",
    "\n",
    "<xacro:property name=\"PI\" value=\"3.1415926535897931\"/>\n",
    "\n",
    " <!-- verificar angulo de camera_support -->\n",
    "  <link name=\"camera_support_link\">\n",
    "    <inertial>\n",
    "      <origin\n",
    "        xyz=\"0 0 0\"\n",
    "        rpy=\"1.570796327 0 0\" />\n",
    "      <mass\n",
    "        value=\"0.30915\" />\n",
    "      <inertia\n",
    "        ixx=\"0.00028972\"\n",
    "        ixy=\"-5.7879E-10\"\n",
    "        ixz=\"-1.8543E-06\"\n",
    "        iyy=\"0.00030737\"\n",
    "        iyz=\"1.682E-12\"\n",
    "        izz=\"0.00019914\" />\n",
    "    </inertial>\n",
    "    <visual>\n",
    "      <origin\n",
    "        xyz=\"0 0 0\"\n",
    "        rpy=\"1.570796327 0 0.523598\" />\n",
    "      <geometry>\n",
    "        <mesh\n",
    "          filename=\"package://kr10_description/meshes/supports/camera_support.stl\" />\n",
    "      </geometry>\n",
    "      <material name=\"green\"/>\n",
    "    </visual>\n",
    "    <collision>\n",
    "      <origin\n",
    "        xyz=\"0 0 0\"\n",
    "        rpy=\"1.570796327 0 0.523598\" /> \n",
    "      <geometry>\n",
    "        <mesh\n",
    "          filename=\"package://kr10_description/meshes/supports/camera_support.stl\" />\n",
    "      </geometry>\n",
    "    </collision>\n",
    "  </link>\n",
    "\n",
    "  <link name=\"camera_link\">\n",
    "    <visual>\n",
    "      <origin\n",
    "        xyz=\"-0.023 -0.045 -0.0125\"\n",
    "        rpy=\"1.570796327 0 1.570796327\" />\n",
    "      <geometry>\n",
    "        <mesh\n",
    "          filename=\"package://kr10_description/meshes/camera.stl\" />\n",
    "      </geometry>\n",
    "    <material name=\"metal_grey\"/>\n",
    "    </visual>\n",
    "    <collision>\n",
    "      <origin\n",
    "        xyz=\"-0.008 -0.045 -0.0125\"\n",
    "        rpy=\"1.570796327 0 1.570796327\" /> \n",
    "      <geometry>\n",
    "        <mesh\n",
    "          filename=\"package://kr10_description/meshes/camera.stl\" />\n",
    "      </geometry>\n",
    "    </collision>\n",
    "    <inertial>\n",
    "        <mass value=\"0.0001\" />\n",
    "        <origin xyz=\"0 0 0\" rpy=\"0 0 0\"/>\n",
    "        <inertia ixx=\"0.0000001\" ixy=\"0\" ixz=\"0\" iyy=\"0.0000001\" iyz=\"0\" izz=\"0.0000001\" />\n",
    "    </inertial>\n",
    "  </link>\n",
    "\n",
    "  <joint name=\"kr10_joint_camera_support\" type=\"fixed\">\n",
    "    <parent link=\"tool0\"/>\n",
    "    <child link=\"camera_support_link\"/>\n",
    "    <origin rpy=\"0 0 -1.57\" xyz=\"0 0 0.008\"/>\n",
    "  </joint>\n",
    "\n",
    "  <joint name=\"camera_joint\" type=\"fixed\">\n",
    "      <origin xyz=\"0 -0.06 0.095\" rpy=\"0 -1.570796327 1.570796327\"/>\n",
    "      <parent link=\"camera_support_link\"/>\n",
    "      <child link=\"camera_link\"/>\n",
    "  </joint>\n",
    "  \n",
    "  <!-- depth camera -->\n",
    "  <gazebo reference=\"camera_link\">\n",
    "    <sensor name=\"camera1\" type=\"depth\">\n",
    "      <update_rate>20</update_rate>\n",
    "      <camera>\n",
    "        <horizontal_fov>1.2</horizontal_fov>\n",
    "        <image>\n",
    "          <width>640</width>\n",
    "          <!--640-->\n",
    "          <height>480</height>\n",
    "          <!--480-->\n",
    "          <format>R8G8B8</format>\n",
    "        </image>\n",
    "        <clip>\n",
    "          <near>0.05</near>\n",
    "          <far>30</far>\n",
    "        </clip>\n",
    "      </camera>\n",
    "      <plugin filename=\"libgazebo_ros_openni_kinect.so\" name=\"camera_controller\">\n",
    "        <baseline>0.2</baseline>\n",
    "        <alwaysOn>false</alwaysOn>\n",
    "        <updateRate>1.0</updateRate>\n",
    "        <cameraName>camera1</cameraName>\n",
    "        <imageTopicName>/camera1/color/image_raw</imageTopicName>\n",
    "        <cameraInfoTopicName>/camera1/color/camera_info</cameraInfoTopicName>\n",
    "        <depthImageTopicName>/camera1/depth/image_raw</depthImageTopicName>\n",
    "        <depthImageInfoTopicName>/camera1/depth/camera_info</depthImageInfoTopicName>\n",
    "        <pointCloudTopicName>/camera1/depth/points</pointCloudTopicName>\n",
    "        <frameName>camera_frame_optical</frameName>\n",
    "        <pointCloudCutoff>0.5</pointCloudCutoff>\n",
    "        <pointCloudCutoffMax>3.0</pointCloudCutoffMax>\n",
    "        <distortionK1>0.00000001</distortionK1>\n",
    "        <distortionK2>0.00000001</distortionK2>\n",
    "        <distortionK3>0.00000001</distortionK3>\n",
    "        <distortionT1>0.00000001</distortionT1>\n",
    "        <distortionT2>0.00000001</distortionT2>\n",
    "        <CxPrime>0</CxPrime>\n",
    "        <Cx>0</Cx>\n",
    "        <Cy>0</Cy>\n",
    "        <focalLength>0</focalLength>\n",
    "        <hackBaseline>0</hackBaseline>\n",
    "      </plugin>\n",
    "    </sensor>\n",
    "  </gazebo>\n",
    "\n",
    "</robot>"
   ]
  },
  {
   "cell_type": "markdown",
   "metadata": {},
   "source": [
    "También se agrega esta junta, que es lo que permitirá asignar la ubicación del sensor de la cámara"
   ]
  },
  {
   "cell_type": "code",
   "execution_count": null,
   "metadata": {},
   "outputs": [],
   "source": [
    "<joint name=\"camera_optical_joint\" type=\"fixed\">\n",
    "    <origin rpy=\"-1.5708 0 -1.5708\" xyz=\"0 0 0\"/>\n",
    "    <parent link=\"camera_link\"/>\n",
    "    <child link=\"camera_frame_optical\"/>\n",
    "  </joint>\n",
    "  <link name=\"camera_frame_optical\"/>"
   ]
  },
  {
   "cell_type": "markdown",
   "metadata": {},
   "source": [
    "Finalmente, ahora hay que agregar toda esta configuración de cámara móvil como variable a nuestro archivo kr10_main.xacro y a los archivos .launch"
   ]
  },
  {
   "cell_type": "raw",
   "metadata": {},
   "source": [
    "roslaunch kr10_gazebo kr10_gazebo.launch"
   ]
  },
  {
   "cell_type": "raw",
   "metadata": {},
   "source": [
    "roslaunch kr10_gazebo kr10_gazebo.launch camera_arm:=true"
   ]
  },
  {
   "cell_type": "markdown",
   "metadata": {},
   "source": [
    "Modificamos el origen de la garra en gazebo_2f.xacro con esto en kuka_joint_gripper_support:"
   ]
  },
  {
   "cell_type": "code",
   "execution_count": null,
   "metadata": {},
   "outputs": [],
   "source": [
    "<origin rpy=\"0 0 0\" xyz=\"0 0 0.01\"/>"
   ]
  },
  {
   "cell_type": "markdown",
   "metadata": {},
   "source": [
    "Visualizamos la imagen con RVIZ"
   ]
  },
  {
   "cell_type": "raw",
   "metadata": {},
   "source": [
    "rosrun rviz rviz"
   ]
  },
  {
   "cell_type": "markdown",
   "metadata": {},
   "source": [
    "Y realizamos un movimiento del robot con nuestro nodo de python"
   ]
  },
  {
   "cell_type": "raw",
   "metadata": {},
   "source": [
    "rosrun kr10_master jtc_node.py 0 -0.5 0.5 0 1.5 0"
   ]
  },
  {
   "cell_type": "raw",
   "metadata": {},
   "source": [
    "pip3 install pyyaml"
   ]
  },
  {
   "cell_type": "raw",
   "metadata": {},
   "source": [
    "pip3 install rospkg"
   ]
  },
  {
   "cell_type": "markdown",
   "metadata": {},
   "source": [
    "#### 4.7 Moveit para el robot industrial"
   ]
  },
  {
   "cell_type": "markdown",
   "metadata": {},
   "source": [
    "Previo a usar el moveit_setup_assistant\n",
    "<br>Se deberá actualizar la versión de Ubuntu, esto debido a que se encontraron errores\n",
    "<br>al momento de cargar el archivo .xacro\n",
    "<br>El problema tentativo es que la longitud del archivo .xacro es demasiada para cargarse en el asistente\n",
    "<br>Por lo que debemos hacer lo siguiente, tiempo estimado (10 - 15 minutos)"
   ]
  },
  {
   "cell_type": "raw",
   "metadata": {},
   "source": [
    "sudo sh -c 'echo \"deb http://packages.ros.org/ros/ubuntu $(lsb_release -sc) main\" > /etc/apt/sources.list.d/ros-latest.list'"
   ]
  },
  {
   "cell_type": "raw",
   "metadata": {},
   "source": [
    "sudo apt install curl # if you haven't already installed curl\n",
    "curl -s https://raw.githubusercontent.com/ros/rosdistro/master/ros.asc | sudo apt-key add -"
   ]
  },
  {
   "cell_type": "raw",
   "metadata": {},
   "source": [
    "sudo apt update"
   ]
  },
  {
   "cell_type": "raw",
   "metadata": {},
   "source": [
    "sudo apt install ros-melodic-desktop-full"
   ]
  },
  {
   "cell_type": "raw",
   "metadata": {},
   "source": [
    "sudo apt-get install ros-melodic-moveit*"
   ]
  },
  {
   "cell_type": "raw",
   "metadata": {},
   "source": [
    "sudo apt-get install ros-melodic-xacro"
   ]
  },
  {
   "cell_type": "raw",
   "metadata": {},
   "source": [
    "sudo apt-get upgrade ros-melodic-xacro"
   ]
  },
  {
   "cell_type": "markdown",
   "metadata": {},
   "source": [
    "Este paso debe hacerse cada que se inicialice un nuevo ROSJect, y así mismo se desee usar el asistente de configuración\n",
    "<br>de Moveit. Esto no será siempre, puesto que una vez obtenido el paquete de Moveit para nuestros archivos\n",
    "<br>xacro, el asistente ya no será necesario.\n",
    "<br>Es más se recomienda no hacer esto a menudo, puesto que TheConstruct está construido sobre una versión ligera de Ubuntu.\n",
    "<br>De modo que si queremos usar esta plataforma debemos apegarnos a sus configuraciones previas.\n",
    "<br>Luego de haber obtenido los paquetes se espera que se cierre el ROSJect y se deje cargar de nuevo el Sistema Operativo Inicial.\n",
    "<br>Este problema se soluciona en versiones más actuales de ROS, como en los últimos desarrollos de ROS Noetic para Máquinas Virtuales o Desktops."
   ]
  },
  {
   "cell_type": "raw",
   "metadata": {},
   "source": [
    "tar -xvf kr10_description.tar"
   ]
  },
  {
   "cell_type": "raw",
   "metadata": {},
   "source": [
    "tar -xvf kr10_gazebo.tar"
   ]
  },
  {
   "cell_type": "markdown",
   "metadata": {},
   "source": [
    "<br>Ahora sí, ejecutamos el asistente y seguimos los siguientes pasos"
   ]
  },
  {
   "cell_type": "raw",
   "metadata": {},
   "source": [
    "roslaunch moveit_setup_assistant setup_assistant.launch"
   ]
  },
  {
   "cell_type": "markdown",
   "metadata": {},
   "source": [
    "Y realizamos los siguientes pasos"
   ]
  },
  {
   "cell_type": "markdown",
   "metadata": {},
   "source": [
    "1. Seleccionamos nuevo paquete moveit y añadimos al archivo kr10_main.xacro\n",
    "2. En optional xacro arguments pueden ir las variables de xacro para asociar más elementos\n",
    "<br> Por ejemplo camera_arm:=true gripper_2f:=true camera:=false\n",
    "<br> Para este tutorial, haremos dos paquetes de moveit:\n",
    "<br> El primero será usando solamente el gripper, por lo que debe ir: --inorder gripper_2f:=true\n",
    "<br> El segundo será con el gripper y la cámara móvil, por lo que deberá ir: --inorder camera_arm:=true gripper_2f:=true\n",
    "3. Ahora el Selft collisions: generamos la collision matrix\n",
    "4. Agregamos un virtual joint llamado joint_virtual y de parent world\n",
    "5. En planning groups, agregamos un grupo, primero para el brazo llamado kuka_arm\n",
    "<br>KDLkinematicsplugin y Add Kin.Chain\n",
    "<br>Tomaremos el base_link a nuestro base_link y en tip link a nuestro tool0 y guardamos\n",
    "<br>Volvemos a agregar un grupo de planeación para nuestro gripper en este caso, lo llamaremos gripper\n",
    "<br>No elegimos un kinematicSolver y damos clic en add joints\n",
    "<br>Seleccionamos desde coupling_joint hasta right_inner_finger_pad_joint y guardamos\n",
    "<br>Imagen\n",
    "6. En Robot Poses, podemos agregar la pose que deseemos, puede ser útil cuando tengamos una trayectoria definida\n",
    "<br>En este momento creemos una pose simple para el brazo, la llamaremos home, y sus valores estarán en cero\n",
    "7. En End Effectors agregamos un end effector el cual se llamará ee_grip, será para nuestra garra\n",
    "<br> El End_effector group será gripper y el parent link será tool0, en parent group será kuka_arm \n",
    "8. En Passive Joints agregamos desde left_inner_finger_joint hasta right_inner_finger_joint\n",
    "<br> Imagen\n",
    "9. En ROS Controllers, agregamos controladores para ambos casos y los cambiamos a tipo positioncontrollers/JointTrajectoryController\n",
    "10. En 3D Perception no agregamos nada para el caso del solo gripper\n",
    "<br>En el caso del gripper con camara, seleccionamos Point Cloud y en donde está Point Cloud Topic \n",
    "<br>remplazamos por /camera1/depth/points\n",
    "11. Llenamos la Author Information con nuestro nombre y correo espol\n",
    "12. Y en Configuration Files guardamos el paquete en una nueva carpeta llamada kuka_arm_2f_moveit y generamos nuestro paquete\n",
    "<br> Para el caso del gripper con camara, se llamará kuka_2f_cam_moveit\n",
    "13. Exit Setup Assistant"
   ]
  },
  {
   "cell_type": "markdown",
   "metadata": {},
   "source": [
    "Finalizado el asistente, debemos hacer unas cuantas configuraciones para que se asocie a nuestro simulador de Gazebo\n",
    "<br>Y se pueda hacer planeación de caminos automática\n",
    "<br>Aprovecharemos que Moveit tiene la capacidad de asociar el controlador de la simulación en Gazebo que se esté corriendo."
   ]
  },
  {
   "cell_type": "raw",
   "metadata": {},
   "source": [
    "roscd kr10_moveit"
   ]
  },
  {
   "cell_type": "raw",
   "metadata": {},
   "source": [
    "tar -xvf kr10_moveit.tar"
   ]
  },
  {
   "cell_type": "markdown",
   "metadata": {},
   "source": [
    "En el archivo ros_controllers.yaml de la carpeta config.\n",
    "<br>Procedemos a cambiar el nombre de nuestros controladores con los mismos nombre de nuestros controladores de Gazebo"
   ]
  },
  {
   "cell_type": "markdown",
   "metadata": {},
   "source": [
    "De modo que los controladores queden así:"
   ]
  },
  {
   "cell_type": "code",
   "execution_count": null,
   "metadata": {},
   "outputs": [],
   "source": [
    "arm_controller:\n",
    "  type: position_controllers/JointTrajectoryController\n",
    "  joints:\n",
    "    - joint_a1\n",
    "    - joint_a2\n",
    "    - joint_a3\n",
    "    - joint_a4\n",
    "    - joint_a5\n",
    "    - joint_a6\n",
    "  gains:\n",
    "    joint_a1:\n",
    "      p: 100\n",
    "      d: 1\n",
    "      i: 1\n",
    "      i_clamp: 1\n",
    "    joint_a2:\n",
    "      p: 100\n",
    "      d: 1\n",
    "      i: 1\n",
    "      i_clamp: 1\n",
    "    joint_a3:\n",
    "      p: 100\n",
    "      d: 1\n",
    "      i: 1\n",
    "      i_clamp: 1\n",
    "    joint_a4:\n",
    "      p: 100\n",
    "      d: 1\n",
    "      i: 1\n",
    "      i_clamp: 1\n",
    "    joint_a5:\n",
    "      p: 100\n",
    "      d: 1\n",
    "      i: 1\n",
    "      i_clamp: 1\n",
    "    joint_a6:\n",
    "      p: 100\n",
    "      d: 1\n",
    "      i: 1\n",
    "      i_clamp: 1\n",
    "gripper:\n",
    "  type: \"position_controllers/GripperActionController\"\n",
    "  joint: finger_joint"
   ]
  },
  {
   "cell_type": "markdown",
   "metadata": {},
   "source": [
    "Así mismo, se procedé a llenar la controller_list con el nombre de nuestros controladores y los siguientes datos:"
   ]
  },
  {
   "cell_type": "code",
   "execution_count": null,
   "metadata": {},
   "outputs": [],
   "source": [
    "controller_list:\n",
    "  - name: arm_controller\n",
    "    action_ns: follow_joint_trajectory\n",
    "    type: FollowJointTrajectory\n",
    "    default: true\n",
    "    joints:\n",
    "      - joint_a1\n",
    "      - joint_a2\n",
    "      - joint_a3\n",
    "      - joint_a4\n",
    "      - joint_a5\n",
    "      - joint_a6\n",
    "      \n",
    "  - name: gripper\n",
    "    action_ns: gripper_cmd\n",
    "    type: GripperCommand\n",
    "    joints: \n",
    "      - finger_joint"
   ]
  },
  {
   "cell_type": "markdown",
   "metadata": {},
   "source": [
    "Ahora, realizamos una prueba primero lanzando nuestra simulación en Gazebo.\n",
    "<br>Luego el archivo move_group de Moveit y finalmente visualizamos los topicos con RVIZ."
   ]
  },
  {
   "cell_type": "raw",
   "metadata": {},
   "source": [
    "roslaunch kr10_gazebo kr10_gazebo.launch gripper_2f:=true"
   ]
  },
  {
   "cell_type": "raw",
   "metadata": {},
   "source": [
    "roslaunch kuka_arm_2f_moveit move_group.launch"
   ]
  },
  {
   "cell_type": "raw",
   "metadata": {},
   "source": [
    "roslaunch kuka_arm_2f_moveit moveit_rviz.launch "
   ]
  },
  {
   "cell_type": "raw",
   "metadata": {},
   "source": [
    "rosrun rviz rviz"
   ]
  },
  {
   "cell_type": "raw",
   "metadata": {},
   "source": [
    "roslaunch kr10_gazebo kr10_gazebo.launch gripper_2f:=true camera_arm:=true"
   ]
  },
  {
   "cell_type": "raw",
   "metadata": {},
   "source": [
    "roslaunch kuka_2f_cam_moveit move_group.launch"
   ]
  },
  {
   "cell_type": "raw",
   "metadata": {},
   "source": [
    "roslaunch kuka_2f_cam_moveit moveit_rviz.launch "
   ]
  },
  {
   "cell_type": "markdown",
   "metadata": {},
   "source": [
    "Si probamos alguna trayectoria para el brazo y para la garra podremos observar que se simula tanto en Moveit como en Gazebo\n",
    "<br>Por lo que podemos decir que hemos configurado con éxito nuestro robot con garra."
   ]
  },
  {
   "cell_type": "markdown",
   "metadata": {},
   "source": [
    "## 5. Motion Planning con código"
   ]
  },
  {
   "cell_type": "raw",
   "metadata": {},
   "source": [
    "sudo apt-get update"
   ]
  },
  {
   "cell_type": "raw",
   "metadata": {},
   "source": [
    "sudo apt install ros-melodic-industrial-core"
   ]
  },
  {
   "cell_type": "raw",
   "metadata": {},
   "source": [
    "roscd kr10_master/src"
   ]
  },
  {
   "cell_type": "markdown",
   "metadata": {},
   "source": [
    "##### FORMA 1 (TOPICS Y PUBLISHERS)"
   ]
  },
  {
   "cell_type": "raw",
   "metadata": {},
   "source": [
    "touch traj.py\n",
    "chmod +x traj.py"
   ]
  },
  {
   "cell_type": "code",
   "execution_count": null,
   "metadata": {},
   "outputs": [],
   "source": [
    "#!/usr/bin/env python\n",
    "import rospy\n",
    "from trajectory_msgs.msg import JointTrajectory, JointTrajectoryPoint\n",
    "import sys\n",
    "\n",
    "def perform_trajectory():\n",
    "    rospy.init_node('kuka_trajectory_publisher')\n",
    "    contoller_name='/brazo_kuka_controller/command'\n",
    "    trajectory_publihser = rospy.Publisher(contoller_name,JointTrajectory, queue_size=10)\n",
    "    argv = sys.argv[1:]                         \n",
    "    panda_joints = ['joint_a1','joint_a2','joint_a3','joint_a4','joint_a5',\n",
    "                    'joint_a6']\n",
    "\n",
    "    goal_positions = [ float(argv[0]) , float(argv[1]) , float(argv[2]) ,float(argv[3] ) ,\n",
    "                        float(argv[4]) , float(argv[5])   ]\n",
    " \n",
    "    rospy.loginfo(\"Goal Position set lets go ! \")\n",
    "    rospy.sleep(1)\n",
    "\n",
    "\n",
    "    trajectory_msg = JointTrajectory()\n",
    "    trajectory_msg.joint_names = panda_joints\n",
    "    trajectory_msg.points.append(JointTrajectoryPoint())\n",
    "    trajectory_msg.points[0].positions = goal_positions\n",
    "    trajectory_msg.points[0].velocities = [0.0 for i in panda_joints]\n",
    "    trajectory_msg.points[0].accelerations = [0.0 for i in panda_joints]\n",
    "    trajectory_msg.points[0].time_from_start = rospy.Duration(3)\n",
    "    rospy.sleep(1)\n",
    "    trajectory_publihser.publish(trajectory_msg)\n",
    "\n",
    "\n",
    "if __name__ == '__main__':\n",
    "    perform_trajectory()"
   ]
  },
  {
   "cell_type": "raw",
   "metadata": {},
   "source": [
    "rosrun kuka_kr16_moveit traj.py 1.57 -0.7 0.7 0 0 0"
   ]
  },
  {
   "cell_type": "markdown",
   "metadata": {},
   "source": [
    "##### FORMA 2 (Planning with cartesian pose)"
   ]
  },
  {
   "cell_type": "raw",
   "metadata": {},
   "source": [
    "touch traj_cart.py\n",
    "chmod +x traj_cart.py"
   ]
  },
  {
   "cell_type": "code",
   "execution_count": null,
   "metadata": {},
   "outputs": [],
   "source": [
    "#! /usr/bin/env python\n",
    "\n",
    "import sys\n",
    "import rospy\n",
    "import moveit_commander\n",
    "import moveit_msgs.msg\n",
    "import geometry_msgs.msg\n",
    "\n",
    "moveit_commander.roscpp_initialize(sys.argv)\n",
    "rospy.init_node('move_group_python_interface_tutorial', anonymous=True)\n",
    "\n",
    "robot = moveit_commander.RobotCommander()\n",
    "scene = moveit_commander.PlanningSceneInterface()    \n",
    "group = moveit_commander.MoveGroupCommander(\"kuka_arm\")\n",
    "display_trajectory_publisher = rospy.Publisher('/move_group/display_planned_path', moveit_msgs.msg.DisplayTrajectory, queue_size=1)\n",
    "\n",
    "pose_target = geometry_msgs.msg.Pose()\n",
    "pose_target.orientation.w = 1.0\n",
    "pose_target.position.x = 0.96\n",
    "pose_target.position.y = 0\n",
    "pose_target.position.z = 1.18\n",
    "group.set_pose_target(pose_target)\n",
    "\n",
    "##plan1 = group.plan()\n",
    "\n",
    "plan = group.go(wait=True)\n",
    "# Calling `stop()` ensures that there is no residual movement\n",
    "group.stop()\n",
    "# It is always good to clear your targets after planning with poses.\n",
    "# Note: there is no equivalent function for clear_joint_value_targets()\n",
    "group.clear_pose_targets()\n",
    "rospy.sleep(5)\n",
    "\n",
    "moveit_commander.roscpp_shutdown()"
   ]
  },
  {
   "cell_type": "raw",
   "metadata": {},
   "source": [
    "rosrun kr10_master traj_cart.py"
   ]
  },
  {
   "cell_type": "raw",
   "metadata": {},
   "source": [
    "sudo apt install python3-catkin-pkg-modules python3-rospkg-modules python3-empy"
   ]
  },
  {
   "cell_type": "markdown",
   "metadata": {},
   "source": [
    "##### FORMA 3 (Planning with joint configurations)"
   ]
  },
  {
   "cell_type": "raw",
   "metadata": {},
   "source": [
    "touch traj_joint.py\n",
    "chmod +x traj_joint.py"
   ]
  },
  {
   "cell_type": "code",
   "execution_count": null,
   "metadata": {},
   "outputs": [],
   "source": [
    "#! /usr/bin/env python\n",
    "\n",
    "import sys\n",
    "import rospy\n",
    "import moveit_commander\n",
    "import moveit_msgs.msg\n",
    "import geometry_msgs.msg\n",
    "\n",
    "moveit_commander.roscpp_initialize(sys.argv)\n",
    "rospy.init_node('move_group_python_interface_tutorial', anonymous=True)\n",
    "\n",
    "robot = moveit_commander.RobotCommander()\n",
    "scene = moveit_commander.PlanningSceneInterface()    \n",
    "group = moveit_commander.MoveGroupCommander(\"kuka_arm\")\n",
    "display_trajectory_publisher = rospy.Publisher('/move_group/display_planned_path', moveit_msgs.msg.DisplayTrajectory, queue_size=1)\n",
    "\n",
    "group_variable_values = group.get_current_joint_values()\n",
    "\n",
    "group_variable_values[5] = -1.5\n",
    "group.set_joint_value_target(group_variable_values)\n",
    "\n",
    "plan2 = group.plan()\n",
    "\n",
    "rospy.sleep(5)\n",
    "\n",
    "moveit_commander.roscpp_shutdown()"
   ]
  },
  {
   "cell_type": "raw",
   "metadata": {},
   "source": [
    "rosrun kr10_master traj_joint.py"
   ]
  },
  {
   "cell_type": "markdown",
   "metadata": {},
   "source": [
    "### Planning with waypoints"
   ]
  },
  {
   "cell_type": "raw",
   "metadata": {},
   "source": [
    "touch waypoints.py\n",
    "chmod +x waypoints.py"
   ]
  },
  {
   "cell_type": "code",
   "execution_count": null,
   "metadata": {},
   "outputs": [],
   "source": [
    "#! /usr/bin/env python\n",
    "\n",
    "import sys\n",
    "import copy\n",
    "import rospy\n",
    "import moveit_commander\n",
    "import moveit_msgs.msg\n",
    "import geometry_msgs.msg\n",
    "\n",
    "moveit_commander.roscpp_initialize(sys.argv)\n",
    "rospy.init_node('move_group_python_interface_tutorial', anonymous=True)\n",
    "\n",
    "robot = moveit_commander.RobotCommander()\n",
    "scene = moveit_commander.PlanningSceneInterface()    \n",
    "group = moveit_commander.MoveGroupCommander(\"kuka_arm\")\n",
    "display_trajectory_publisher = rospy.Publisher('/move_group/display_planned_path', moveit_msgs.msg.DisplayTrajectory, queue_size=1)\n",
    "\n",
    "\n",
    "waypoints = []\n",
    "\n",
    "pose_target = geometry_msgs.msg.Pose()\n",
    "pose_target.orientation.w = 1.0\n",
    "pose_target.position.x = 0.5\n",
    "pose_target.position.y = -0.5\n",
    "pose_target.position.z = 1.18\n",
    "\n",
    "waypoints.append(copy.deepcopy(pose_target))\n",
    "\n",
    "pose_target = geometry_msgs.msg.Pose()\n",
    "pose_target.orientation.w = 1.0\n",
    "pose_target.position.x = 0.5\n",
    "pose_target.position.y = 0.7\n",
    "pose_target.position.z = 1.2\n",
    "\n",
    "waypoints.append(copy.deepcopy(pose_target))\n",
    "\n",
    "pose_target = geometry_msgs.msg.Pose()\n",
    "pose_target.orientation.w = 1.0\n",
    "pose_target.position.x = -0.5\n",
    "pose_target.position.y = 0.7\n",
    "pose_target.position.z = 1.2\n",
    "\n",
    "waypoints.append(copy.deepcopy(pose_target))\n",
    "\n",
    "pose_target = geometry_msgs.msg.Pose()\n",
    "pose_target.orientation.w = 1.0\n",
    "pose_target.position.x = 0.5\n",
    "pose_target.position.y = 0.7\n",
    "pose_target.position.z = 1.2\n",
    "\n",
    "waypoints.append(copy.deepcopy(pose_target))\n",
    "\n",
    "#pose_target = geometry_msgs.msg.Pose()\n",
    "#pose_target.orientation.w = 1.0\n",
    "#pose_target.position.x = -1.0\n",
    "#pose_target.position.y = -0.7\n",
    "#pose_target.position.z = 1.2\n",
    "\n",
    "#waypoints.append(copy.deepcopy(pose_target))\n",
    "\n",
    "\n",
    "pose_target = geometry_msgs.msg.Pose()\n",
    "pose_target.orientation.w = 1.0\n",
    "pose_target.position.x = 0.5\n",
    "pose_target.position.y = -0.5\n",
    "pose_target.position.z = 1.18\n",
    "\n",
    "waypoints.append(copy.deepcopy(pose_target))\n",
    "\n",
    "\n",
    "# We want the Cartesian path to be interpolated at a resolution of 1 cm\n",
    "# which is why we will specify 0.01 as the eef_step in Cartesian\n",
    "# translation.  We will disable the jump threshold by setting it to 0.0,\n",
    "# ignoring the check for infeasible jumps in joint space, which is sufficient\n",
    "# for this tutorial.\n",
    "fraction = 0.0\n",
    "maxtries = 200\n",
    "attempts = 0\n",
    "(plan, fraction) = group.compute_cartesian_path(\n",
    "                                   waypoints,   # waypoints to follow\n",
    "                                   0.01,        # eef_step\n",
    "                                   0.0)         # jump_threshold\n",
    "#while fraction < 1.0 and attempts < maxtries:\n",
    "#    (plan, fraction) = group.compute_cartesian_path(\n",
    "#                                   waypoints,   # waypoints to follow\n",
    "#                                   0.01,        # eef_step\n",
    "#                                   0.0)         # jump_threshold\n",
    "    \n",
    "#    attempts+=1\n",
    "#    if attempts % 10 == 0:\n",
    "#        rospy.loginfo(\"Still trying after \" + str(attempts) + \" attempts...\")\n",
    "\n",
    "group.execute(plan, wait=True)\n",
    "# Note: We are just planning, not asking move_group to actually move the robot yet:\n",
    "rospy.sleep(1)\n",
    "\n",
    "\n",
    "# Calling `stop()` ensures that there is no residual movement\n",
    "group.stop()\n",
    "# It is always good to clear your targets after planning with poses.\n",
    "# Note: there is no equivalent function for clear_joint_value_targets()\n",
    "group.clear_pose_targets()\n",
    "rospy.sleep(5)\n",
    "\n",
    "moveit_commander.roscpp_shutdown()"
   ]
  },
  {
   "cell_type": "raw",
   "metadata": {},
   "source": [
    "rosrun kr10_master waypoints.py"
   ]
  },
  {
   "cell_type": "markdown",
   "metadata": {},
   "source": [
    "__El entregable 2 va a ser la carpeta generada KUKA_10 en un archivo .rar__"
   ]
  },
  {
   "cell_type": "markdown",
   "metadata": {},
   "source": [
    "Cualquier inquietud o problema, no dudar en contactar al ayudante de la materia\n",
    "<br>Javier Pagalo: gpagalo@espol.edu.ec"
   ]
  },
  {
   "cell_type": "markdown",
   "metadata": {},
   "source": [
    "## Referencias\n",
    "Mastering ROS for Robotics Programming - Third Edition\n",
    "<br> http://wiki.ros.org/Documentation\n",
    "<br> https://www.udemy.com/course/robotics-with-ros-build-robotic-arm-in-gazebo-and-moveit/"
   ]
  },
  {
   "cell_type": "code",
   "execution_count": null,
   "metadata": {},
   "outputs": [],
   "source": []
  }
 ],
 "metadata": {
  "kernelspec": {
   "display_name": "Python 2",
   "language": "python",
   "name": "python2"
  },
  "language_info": {
   "codemirror_mode": {
    "name": "ipython",
    "version": 2
   },
   "file_extension": ".py",
   "mimetype": "text/x-python",
   "name": "python",
   "nbconvert_exporter": "python",
   "pygments_lexer": "ipython2",
   "version": "2.7.16"
  }
 },
 "nbformat": 4,
 "nbformat_minor": 1
}
